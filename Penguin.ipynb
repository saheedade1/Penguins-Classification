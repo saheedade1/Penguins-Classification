{
 "cells": [
  {
   "cell_type": "code",
   "execution_count": 280,
   "id": "aae610f9-4b86-464d-a788-3599a9bbf9d0",
   "metadata": {},
   "outputs": [],
   "source": [
    "import pandas as pd\n",
    "import numpy as np\n",
    "import matplotlib.pyplot as plt\n",
    "import seaborn as sns\n",
    "\n",
    "from sklearn.cluster import KMeans\n",
    "from sklearn import metrics\n",
    "from sklearn.decomposition import PCA\n",
    "from imblearn.over_sampling import SMOTE\n",
    "from sklearn.metrics import confusion_matrix\n",
    "from sklearn.preprocessing import OneHotEncoder\n",
    "from sklearn.preprocessing import OrdinalEncoder\n",
    "from sklearn.metrics import classification_report\n",
    "from sklearn.neighbors import KNeighborsClassifier\n",
    "from sklearn.model_selection import cross_val_score\n",
    "from sklearn.model_selection import train_test_split\n",
    "from sklearn.preprocessing import StandardScaler, MinMaxScaler\n",
    "from sklearn.metrics import silhouette_samples, silhouette_score\n",
    "from statsmodels.stats.outliers_influence import variance_inflation_factor"
   ]
  },
  {
   "cell_type": "code",
   "execution_count": 281,
   "id": "70cf4e0e-6731-4dad-b410-0e32463e5235",
   "metadata": {},
   "outputs": [
    {
     "data": {
      "text/html": [
       "<div>\n",
       "<style scoped>\n",
       "    .dataframe tbody tr th:only-of-type {\n",
       "        vertical-align: middle;\n",
       "    }\n",
       "\n",
       "    .dataframe tbody tr th {\n",
       "        vertical-align: top;\n",
       "    }\n",
       "\n",
       "    .dataframe thead th {\n",
       "        text-align: right;\n",
       "    }\n",
       "</style>\n",
       "<table border=\"1\" class=\"dataframe\">\n",
       "  <thead>\n",
       "    <tr style=\"text-align: right;\">\n",
       "      <th></th>\n",
       "      <th>studyName</th>\n",
       "      <th>Sample Number</th>\n",
       "      <th>Species</th>\n",
       "      <th>Region</th>\n",
       "      <th>Island</th>\n",
       "      <th>Stage</th>\n",
       "      <th>Individual ID</th>\n",
       "      <th>Clutch Completion</th>\n",
       "      <th>Date Egg</th>\n",
       "      <th>Culmen Length (mm)</th>\n",
       "      <th>Culmen Depth (mm)</th>\n",
       "      <th>Flipper Length (mm)</th>\n",
       "      <th>Body Mass (g)</th>\n",
       "      <th>Sex</th>\n",
       "      <th>Delta 15 N (o/oo)</th>\n",
       "      <th>Delta 13 C (o/oo)</th>\n",
       "      <th>Comments</th>\n",
       "    </tr>\n",
       "  </thead>\n",
       "  <tbody>\n",
       "    <tr>\n",
       "      <th>0</th>\n",
       "      <td>PAL0708</td>\n",
       "      <td>1</td>\n",
       "      <td>Adelie Penguin (Pygoscelis adeliae)</td>\n",
       "      <td>Anvers</td>\n",
       "      <td>Torgersen</td>\n",
       "      <td>Adult, 1 Egg Stage</td>\n",
       "      <td>N1A1</td>\n",
       "      <td>Yes</td>\n",
       "      <td>11/11/07</td>\n",
       "      <td>39.1</td>\n",
       "      <td>18.7</td>\n",
       "      <td>181.0</td>\n",
       "      <td>3750.0</td>\n",
       "      <td>MALE</td>\n",
       "      <td>NaN</td>\n",
       "      <td>NaN</td>\n",
       "      <td>Not enough blood for isotopes.</td>\n",
       "    </tr>\n",
       "    <tr>\n",
       "      <th>1</th>\n",
       "      <td>PAL0708</td>\n",
       "      <td>2</td>\n",
       "      <td>Adelie Penguin (Pygoscelis adeliae)</td>\n",
       "      <td>Anvers</td>\n",
       "      <td>Torgersen</td>\n",
       "      <td>Adult, 1 Egg Stage</td>\n",
       "      <td>N1A2</td>\n",
       "      <td>Yes</td>\n",
       "      <td>11/11/07</td>\n",
       "      <td>39.5</td>\n",
       "      <td>17.4</td>\n",
       "      <td>186.0</td>\n",
       "      <td>3800.0</td>\n",
       "      <td>FEMALE</td>\n",
       "      <td>8.94956</td>\n",
       "      <td>-24.69454</td>\n",
       "      <td>NaN</td>\n",
       "    </tr>\n",
       "    <tr>\n",
       "      <th>2</th>\n",
       "      <td>PAL0708</td>\n",
       "      <td>3</td>\n",
       "      <td>Adelie Penguin (Pygoscelis adeliae)</td>\n",
       "      <td>Anvers</td>\n",
       "      <td>Torgersen</td>\n",
       "      <td>Adult, 1 Egg Stage</td>\n",
       "      <td>N2A1</td>\n",
       "      <td>Yes</td>\n",
       "      <td>11/16/07</td>\n",
       "      <td>40.3</td>\n",
       "      <td>18.0</td>\n",
       "      <td>195.0</td>\n",
       "      <td>3250.0</td>\n",
       "      <td>FEMALE</td>\n",
       "      <td>8.36821</td>\n",
       "      <td>-25.33302</td>\n",
       "      <td>NaN</td>\n",
       "    </tr>\n",
       "    <tr>\n",
       "      <th>3</th>\n",
       "      <td>PAL0708</td>\n",
       "      <td>4</td>\n",
       "      <td>Adelie Penguin (Pygoscelis adeliae)</td>\n",
       "      <td>Anvers</td>\n",
       "      <td>Torgersen</td>\n",
       "      <td>Adult, 1 Egg Stage</td>\n",
       "      <td>N2A2</td>\n",
       "      <td>Yes</td>\n",
       "      <td>11/16/07</td>\n",
       "      <td>NaN</td>\n",
       "      <td>NaN</td>\n",
       "      <td>NaN</td>\n",
       "      <td>NaN</td>\n",
       "      <td>NaN</td>\n",
       "      <td>NaN</td>\n",
       "      <td>NaN</td>\n",
       "      <td>Adult not sampled.</td>\n",
       "    </tr>\n",
       "    <tr>\n",
       "      <th>4</th>\n",
       "      <td>PAL0708</td>\n",
       "      <td>5</td>\n",
       "      <td>Adelie Penguin (Pygoscelis adeliae)</td>\n",
       "      <td>Anvers</td>\n",
       "      <td>Torgersen</td>\n",
       "      <td>Adult, 1 Egg Stage</td>\n",
       "      <td>N3A1</td>\n",
       "      <td>Yes</td>\n",
       "      <td>11/16/07</td>\n",
       "      <td>36.7</td>\n",
       "      <td>19.3</td>\n",
       "      <td>193.0</td>\n",
       "      <td>3450.0</td>\n",
       "      <td>FEMALE</td>\n",
       "      <td>8.76651</td>\n",
       "      <td>-25.32426</td>\n",
       "      <td>NaN</td>\n",
       "    </tr>\n",
       "    <tr>\n",
       "      <th>...</th>\n",
       "      <td>...</td>\n",
       "      <td>...</td>\n",
       "      <td>...</td>\n",
       "      <td>...</td>\n",
       "      <td>...</td>\n",
       "      <td>...</td>\n",
       "      <td>...</td>\n",
       "      <td>...</td>\n",
       "      <td>...</td>\n",
       "      <td>...</td>\n",
       "      <td>...</td>\n",
       "      <td>...</td>\n",
       "      <td>...</td>\n",
       "      <td>...</td>\n",
       "      <td>...</td>\n",
       "      <td>...</td>\n",
       "      <td>...</td>\n",
       "    </tr>\n",
       "    <tr>\n",
       "      <th>339</th>\n",
       "      <td>PAL0910</td>\n",
       "      <td>120</td>\n",
       "      <td>Gentoo penguin (Pygoscelis papua)</td>\n",
       "      <td>Anvers</td>\n",
       "      <td>Biscoe</td>\n",
       "      <td>Adult, 1 Egg Stage</td>\n",
       "      <td>N38A2</td>\n",
       "      <td>No</td>\n",
       "      <td>12/1/09</td>\n",
       "      <td>NaN</td>\n",
       "      <td>NaN</td>\n",
       "      <td>NaN</td>\n",
       "      <td>NaN</td>\n",
       "      <td>NaN</td>\n",
       "      <td>NaN</td>\n",
       "      <td>NaN</td>\n",
       "      <td>NaN</td>\n",
       "    </tr>\n",
       "    <tr>\n",
       "      <th>340</th>\n",
       "      <td>PAL0910</td>\n",
       "      <td>121</td>\n",
       "      <td>Gentoo penguin (Pygoscelis papua)</td>\n",
       "      <td>Anvers</td>\n",
       "      <td>Biscoe</td>\n",
       "      <td>Adult, 1 Egg Stage</td>\n",
       "      <td>N39A1</td>\n",
       "      <td>Yes</td>\n",
       "      <td>11/22/09</td>\n",
       "      <td>46.8</td>\n",
       "      <td>14.3</td>\n",
       "      <td>215.0</td>\n",
       "      <td>4850.0</td>\n",
       "      <td>FEMALE</td>\n",
       "      <td>8.41151</td>\n",
       "      <td>-26.13832</td>\n",
       "      <td>NaN</td>\n",
       "    </tr>\n",
       "    <tr>\n",
       "      <th>341</th>\n",
       "      <td>PAL0910</td>\n",
       "      <td>122</td>\n",
       "      <td>Gentoo penguin (Pygoscelis papua)</td>\n",
       "      <td>Anvers</td>\n",
       "      <td>Biscoe</td>\n",
       "      <td>Adult, 1 Egg Stage</td>\n",
       "      <td>N39A2</td>\n",
       "      <td>Yes</td>\n",
       "      <td>11/22/09</td>\n",
       "      <td>50.4</td>\n",
       "      <td>15.7</td>\n",
       "      <td>222.0</td>\n",
       "      <td>5750.0</td>\n",
       "      <td>MALE</td>\n",
       "      <td>8.30166</td>\n",
       "      <td>-26.04117</td>\n",
       "      <td>NaN</td>\n",
       "    </tr>\n",
       "    <tr>\n",
       "      <th>342</th>\n",
       "      <td>PAL0910</td>\n",
       "      <td>123</td>\n",
       "      <td>Gentoo penguin (Pygoscelis papua)</td>\n",
       "      <td>Anvers</td>\n",
       "      <td>Biscoe</td>\n",
       "      <td>Adult, 1 Egg Stage</td>\n",
       "      <td>N43A1</td>\n",
       "      <td>Yes</td>\n",
       "      <td>11/22/09</td>\n",
       "      <td>45.2</td>\n",
       "      <td>14.8</td>\n",
       "      <td>212.0</td>\n",
       "      <td>5200.0</td>\n",
       "      <td>FEMALE</td>\n",
       "      <td>8.24246</td>\n",
       "      <td>-26.11969</td>\n",
       "      <td>NaN</td>\n",
       "    </tr>\n",
       "    <tr>\n",
       "      <th>343</th>\n",
       "      <td>PAL0910</td>\n",
       "      <td>124</td>\n",
       "      <td>Gentoo penguin (Pygoscelis papua)</td>\n",
       "      <td>Anvers</td>\n",
       "      <td>Biscoe</td>\n",
       "      <td>Adult, 1 Egg Stage</td>\n",
       "      <td>N43A2</td>\n",
       "      <td>Yes</td>\n",
       "      <td>11/22/09</td>\n",
       "      <td>49.9</td>\n",
       "      <td>16.1</td>\n",
       "      <td>213.0</td>\n",
       "      <td>5400.0</td>\n",
       "      <td>MALE</td>\n",
       "      <td>8.36390</td>\n",
       "      <td>-26.15531</td>\n",
       "      <td>NaN</td>\n",
       "    </tr>\n",
       "  </tbody>\n",
       "</table>\n",
       "<p>344 rows × 17 columns</p>\n",
       "</div>"
      ],
      "text/plain": [
       "    studyName  Sample Number                              Species  Region  \\\n",
       "0     PAL0708              1  Adelie Penguin (Pygoscelis adeliae)  Anvers   \n",
       "1     PAL0708              2  Adelie Penguin (Pygoscelis adeliae)  Anvers   \n",
       "2     PAL0708              3  Adelie Penguin (Pygoscelis adeliae)  Anvers   \n",
       "3     PAL0708              4  Adelie Penguin (Pygoscelis adeliae)  Anvers   \n",
       "4     PAL0708              5  Adelie Penguin (Pygoscelis adeliae)  Anvers   \n",
       "..        ...            ...                                  ...     ...   \n",
       "339   PAL0910            120    Gentoo penguin (Pygoscelis papua)  Anvers   \n",
       "340   PAL0910            121    Gentoo penguin (Pygoscelis papua)  Anvers   \n",
       "341   PAL0910            122    Gentoo penguin (Pygoscelis papua)  Anvers   \n",
       "342   PAL0910            123    Gentoo penguin (Pygoscelis papua)  Anvers   \n",
       "343   PAL0910            124    Gentoo penguin (Pygoscelis papua)  Anvers   \n",
       "\n",
       "        Island               Stage Individual ID Clutch Completion  Date Egg  \\\n",
       "0    Torgersen  Adult, 1 Egg Stage          N1A1               Yes  11/11/07   \n",
       "1    Torgersen  Adult, 1 Egg Stage          N1A2               Yes  11/11/07   \n",
       "2    Torgersen  Adult, 1 Egg Stage          N2A1               Yes  11/16/07   \n",
       "3    Torgersen  Adult, 1 Egg Stage          N2A2               Yes  11/16/07   \n",
       "4    Torgersen  Adult, 1 Egg Stage          N3A1               Yes  11/16/07   \n",
       "..         ...                 ...           ...               ...       ...   \n",
       "339     Biscoe  Adult, 1 Egg Stage         N38A2                No   12/1/09   \n",
       "340     Biscoe  Adult, 1 Egg Stage         N39A1               Yes  11/22/09   \n",
       "341     Biscoe  Adult, 1 Egg Stage         N39A2               Yes  11/22/09   \n",
       "342     Biscoe  Adult, 1 Egg Stage         N43A1               Yes  11/22/09   \n",
       "343     Biscoe  Adult, 1 Egg Stage         N43A2               Yes  11/22/09   \n",
       "\n",
       "     Culmen Length (mm)  Culmen Depth (mm)  Flipper Length (mm)  \\\n",
       "0                  39.1               18.7                181.0   \n",
       "1                  39.5               17.4                186.0   \n",
       "2                  40.3               18.0                195.0   \n",
       "3                   NaN                NaN                  NaN   \n",
       "4                  36.7               19.3                193.0   \n",
       "..                  ...                ...                  ...   \n",
       "339                 NaN                NaN                  NaN   \n",
       "340                46.8               14.3                215.0   \n",
       "341                50.4               15.7                222.0   \n",
       "342                45.2               14.8                212.0   \n",
       "343                49.9               16.1                213.0   \n",
       "\n",
       "     Body Mass (g)     Sex  Delta 15 N (o/oo)  Delta 13 C (o/oo)  \\\n",
       "0           3750.0    MALE                NaN                NaN   \n",
       "1           3800.0  FEMALE            8.94956          -24.69454   \n",
       "2           3250.0  FEMALE            8.36821          -25.33302   \n",
       "3              NaN     NaN                NaN                NaN   \n",
       "4           3450.0  FEMALE            8.76651          -25.32426   \n",
       "..             ...     ...                ...                ...   \n",
       "339            NaN     NaN                NaN                NaN   \n",
       "340         4850.0  FEMALE            8.41151          -26.13832   \n",
       "341         5750.0    MALE            8.30166          -26.04117   \n",
       "342         5200.0  FEMALE            8.24246          -26.11969   \n",
       "343         5400.0    MALE            8.36390          -26.15531   \n",
       "\n",
       "                           Comments  \n",
       "0    Not enough blood for isotopes.  \n",
       "1                               NaN  \n",
       "2                               NaN  \n",
       "3                Adult not sampled.  \n",
       "4                               NaN  \n",
       "..                              ...  \n",
       "339                             NaN  \n",
       "340                             NaN  \n",
       "341                             NaN  \n",
       "342                             NaN  \n",
       "343                             NaN  \n",
       "\n",
       "[344 rows x 17 columns]"
      ]
     },
     "execution_count": 281,
     "metadata": {},
     "output_type": "execute_result"
    }
   ],
   "source": [
    "penguins = pd.read_csv('penguins_lter.csv')\n",
    "penguins"
   ]
  },
  {
   "cell_type": "code",
   "execution_count": 282,
   "id": "2186a347-4eca-4333-b6d4-4eb94e6122bf",
   "metadata": {},
   "outputs": [
    {
     "name": "stdout",
     "output_type": "stream",
     "text": [
      "<class 'pandas.core.frame.DataFrame'>\n",
      "RangeIndex: 344 entries, 0 to 343\n",
      "Data columns (total 17 columns):\n",
      " #   Column               Non-Null Count  Dtype  \n",
      "---  ------               --------------  -----  \n",
      " 0   studyName            344 non-null    object \n",
      " 1   Sample Number        344 non-null    int64  \n",
      " 2   Species              344 non-null    object \n",
      " 3   Region               344 non-null    object \n",
      " 4   Island               344 non-null    object \n",
      " 5   Stage                344 non-null    object \n",
      " 6   Individual ID        344 non-null    object \n",
      " 7   Clutch Completion    344 non-null    object \n",
      " 8   Date Egg             344 non-null    object \n",
      " 9   Culmen Length (mm)   342 non-null    float64\n",
      " 10  Culmen Depth (mm)    342 non-null    float64\n",
      " 11  Flipper Length (mm)  342 non-null    float64\n",
      " 12  Body Mass (g)        342 non-null    float64\n",
      " 13  Sex                  334 non-null    object \n",
      " 14  Delta 15 N (o/oo)    330 non-null    float64\n",
      " 15  Delta 13 C (o/oo)    331 non-null    float64\n",
      " 16  Comments             26 non-null     object \n",
      "dtypes: float64(6), int64(1), object(10)\n",
      "memory usage: 45.8+ KB\n"
     ]
    }
   ],
   "source": [
    "penguins.info()"
   ]
  },
  {
   "cell_type": "code",
   "execution_count": 283,
   "id": "0ccaba6b-6378-4372-a54a-344ef2b2eb7f",
   "metadata": {},
   "outputs": [
    {
     "data": {
      "text/plain": [
       "studyName                0\n",
       "Sample Number            0\n",
       "Species                  0\n",
       "Region                   0\n",
       "Island                   0\n",
       "Stage                    0\n",
       "Individual ID            0\n",
       "Clutch Completion        0\n",
       "Date Egg                 0\n",
       "Culmen Length (mm)       2\n",
       "Culmen Depth (mm)        2\n",
       "Flipper Length (mm)      2\n",
       "Body Mass (g)            2\n",
       "Sex                     10\n",
       "Delta 15 N (o/oo)       14\n",
       "Delta 13 C (o/oo)       13\n",
       "Comments               318\n",
       "dtype: int64"
      ]
     },
     "execution_count": 283,
     "metadata": {},
     "output_type": "execute_result"
    }
   ],
   "source": [
    "penguins.isna().sum()"
   ]
  },
  {
   "cell_type": "code",
   "execution_count": 284,
   "id": "2849f4fd-eefe-4509-813f-672722bea29f",
   "metadata": {},
   "outputs": [
    {
     "name": "stdout",
     "output_type": "stream",
     "text": [
      "['PAL0708' 'PAL0809' 'PAL0910']\n"
     ]
    }
   ],
   "source": [
    "col = penguins['studyName']\n",
    "print(np.unique(col.values))"
   ]
  },
  {
   "cell_type": "code",
   "execution_count": 285,
   "id": "7ddb6e5d-3da5-43a4-91b8-8d3db0c087a7",
   "metadata": {},
   "outputs": [
    {
     "data": {
      "text/html": [
       "<div>\n",
       "<style scoped>\n",
       "    .dataframe tbody tr th:only-of-type {\n",
       "        vertical-align: middle;\n",
       "    }\n",
       "\n",
       "    .dataframe tbody tr th {\n",
       "        vertical-align: top;\n",
       "    }\n",
       "\n",
       "    .dataframe thead th {\n",
       "        text-align: right;\n",
       "    }\n",
       "</style>\n",
       "<table border=\"1\" class=\"dataframe\">\n",
       "  <thead>\n",
       "    <tr style=\"text-align: right;\">\n",
       "      <th></th>\n",
       "      <th>studyName</th>\n",
       "      <th>Sample Number</th>\n",
       "      <th>Species</th>\n",
       "      <th>Island</th>\n",
       "      <th>Clutch Completion</th>\n",
       "      <th>Culmen Length (mm)</th>\n",
       "      <th>Culmen Depth (mm)</th>\n",
       "      <th>Flipper Length (mm)</th>\n",
       "      <th>Body Mass (g)</th>\n",
       "      <th>Sex</th>\n",
       "      <th>Delta 15 N (o/oo)</th>\n",
       "      <th>Delta 13 C (o/oo)</th>\n",
       "    </tr>\n",
       "  </thead>\n",
       "  <tbody>\n",
       "    <tr>\n",
       "      <th>0</th>\n",
       "      <td>PAL0708</td>\n",
       "      <td>1</td>\n",
       "      <td>Adelie Penguin (Pygoscelis adeliae)</td>\n",
       "      <td>Torgersen</td>\n",
       "      <td>Yes</td>\n",
       "      <td>39.1</td>\n",
       "      <td>18.7</td>\n",
       "      <td>181.0</td>\n",
       "      <td>3750.0</td>\n",
       "      <td>MALE</td>\n",
       "      <td>NaN</td>\n",
       "      <td>NaN</td>\n",
       "    </tr>\n",
       "    <tr>\n",
       "      <th>1</th>\n",
       "      <td>PAL0708</td>\n",
       "      <td>2</td>\n",
       "      <td>Adelie Penguin (Pygoscelis adeliae)</td>\n",
       "      <td>Torgersen</td>\n",
       "      <td>Yes</td>\n",
       "      <td>39.5</td>\n",
       "      <td>17.4</td>\n",
       "      <td>186.0</td>\n",
       "      <td>3800.0</td>\n",
       "      <td>FEMALE</td>\n",
       "      <td>8.94956</td>\n",
       "      <td>-24.69454</td>\n",
       "    </tr>\n",
       "    <tr>\n",
       "      <th>2</th>\n",
       "      <td>PAL0708</td>\n",
       "      <td>3</td>\n",
       "      <td>Adelie Penguin (Pygoscelis adeliae)</td>\n",
       "      <td>Torgersen</td>\n",
       "      <td>Yes</td>\n",
       "      <td>40.3</td>\n",
       "      <td>18.0</td>\n",
       "      <td>195.0</td>\n",
       "      <td>3250.0</td>\n",
       "      <td>FEMALE</td>\n",
       "      <td>8.36821</td>\n",
       "      <td>-25.33302</td>\n",
       "    </tr>\n",
       "    <tr>\n",
       "      <th>3</th>\n",
       "      <td>PAL0708</td>\n",
       "      <td>4</td>\n",
       "      <td>Adelie Penguin (Pygoscelis adeliae)</td>\n",
       "      <td>Torgersen</td>\n",
       "      <td>Yes</td>\n",
       "      <td>NaN</td>\n",
       "      <td>NaN</td>\n",
       "      <td>NaN</td>\n",
       "      <td>NaN</td>\n",
       "      <td>NaN</td>\n",
       "      <td>NaN</td>\n",
       "      <td>NaN</td>\n",
       "    </tr>\n",
       "    <tr>\n",
       "      <th>4</th>\n",
       "      <td>PAL0708</td>\n",
       "      <td>5</td>\n",
       "      <td>Adelie Penguin (Pygoscelis adeliae)</td>\n",
       "      <td>Torgersen</td>\n",
       "      <td>Yes</td>\n",
       "      <td>36.7</td>\n",
       "      <td>19.3</td>\n",
       "      <td>193.0</td>\n",
       "      <td>3450.0</td>\n",
       "      <td>FEMALE</td>\n",
       "      <td>8.76651</td>\n",
       "      <td>-25.32426</td>\n",
       "    </tr>\n",
       "    <tr>\n",
       "      <th>...</th>\n",
       "      <td>...</td>\n",
       "      <td>...</td>\n",
       "      <td>...</td>\n",
       "      <td>...</td>\n",
       "      <td>...</td>\n",
       "      <td>...</td>\n",
       "      <td>...</td>\n",
       "      <td>...</td>\n",
       "      <td>...</td>\n",
       "      <td>...</td>\n",
       "      <td>...</td>\n",
       "      <td>...</td>\n",
       "    </tr>\n",
       "    <tr>\n",
       "      <th>339</th>\n",
       "      <td>PAL0910</td>\n",
       "      <td>120</td>\n",
       "      <td>Gentoo penguin (Pygoscelis papua)</td>\n",
       "      <td>Biscoe</td>\n",
       "      <td>No</td>\n",
       "      <td>NaN</td>\n",
       "      <td>NaN</td>\n",
       "      <td>NaN</td>\n",
       "      <td>NaN</td>\n",
       "      <td>NaN</td>\n",
       "      <td>NaN</td>\n",
       "      <td>NaN</td>\n",
       "    </tr>\n",
       "    <tr>\n",
       "      <th>340</th>\n",
       "      <td>PAL0910</td>\n",
       "      <td>121</td>\n",
       "      <td>Gentoo penguin (Pygoscelis papua)</td>\n",
       "      <td>Biscoe</td>\n",
       "      <td>Yes</td>\n",
       "      <td>46.8</td>\n",
       "      <td>14.3</td>\n",
       "      <td>215.0</td>\n",
       "      <td>4850.0</td>\n",
       "      <td>FEMALE</td>\n",
       "      <td>8.41151</td>\n",
       "      <td>-26.13832</td>\n",
       "    </tr>\n",
       "    <tr>\n",
       "      <th>341</th>\n",
       "      <td>PAL0910</td>\n",
       "      <td>122</td>\n",
       "      <td>Gentoo penguin (Pygoscelis papua)</td>\n",
       "      <td>Biscoe</td>\n",
       "      <td>Yes</td>\n",
       "      <td>50.4</td>\n",
       "      <td>15.7</td>\n",
       "      <td>222.0</td>\n",
       "      <td>5750.0</td>\n",
       "      <td>MALE</td>\n",
       "      <td>8.30166</td>\n",
       "      <td>-26.04117</td>\n",
       "    </tr>\n",
       "    <tr>\n",
       "      <th>342</th>\n",
       "      <td>PAL0910</td>\n",
       "      <td>123</td>\n",
       "      <td>Gentoo penguin (Pygoscelis papua)</td>\n",
       "      <td>Biscoe</td>\n",
       "      <td>Yes</td>\n",
       "      <td>45.2</td>\n",
       "      <td>14.8</td>\n",
       "      <td>212.0</td>\n",
       "      <td>5200.0</td>\n",
       "      <td>FEMALE</td>\n",
       "      <td>8.24246</td>\n",
       "      <td>-26.11969</td>\n",
       "    </tr>\n",
       "    <tr>\n",
       "      <th>343</th>\n",
       "      <td>PAL0910</td>\n",
       "      <td>124</td>\n",
       "      <td>Gentoo penguin (Pygoscelis papua)</td>\n",
       "      <td>Biscoe</td>\n",
       "      <td>Yes</td>\n",
       "      <td>49.9</td>\n",
       "      <td>16.1</td>\n",
       "      <td>213.0</td>\n",
       "      <td>5400.0</td>\n",
       "      <td>MALE</td>\n",
       "      <td>8.36390</td>\n",
       "      <td>-26.15531</td>\n",
       "    </tr>\n",
       "  </tbody>\n",
       "</table>\n",
       "<p>344 rows × 12 columns</p>\n",
       "</div>"
      ],
      "text/plain": [
       "    studyName  Sample Number                              Species     Island  \\\n",
       "0     PAL0708              1  Adelie Penguin (Pygoscelis adeliae)  Torgersen   \n",
       "1     PAL0708              2  Adelie Penguin (Pygoscelis adeliae)  Torgersen   \n",
       "2     PAL0708              3  Adelie Penguin (Pygoscelis adeliae)  Torgersen   \n",
       "3     PAL0708              4  Adelie Penguin (Pygoscelis adeliae)  Torgersen   \n",
       "4     PAL0708              5  Adelie Penguin (Pygoscelis adeliae)  Torgersen   \n",
       "..        ...            ...                                  ...        ...   \n",
       "339   PAL0910            120    Gentoo penguin (Pygoscelis papua)     Biscoe   \n",
       "340   PAL0910            121    Gentoo penguin (Pygoscelis papua)     Biscoe   \n",
       "341   PAL0910            122    Gentoo penguin (Pygoscelis papua)     Biscoe   \n",
       "342   PAL0910            123    Gentoo penguin (Pygoscelis papua)     Biscoe   \n",
       "343   PAL0910            124    Gentoo penguin (Pygoscelis papua)     Biscoe   \n",
       "\n",
       "    Clutch Completion  Culmen Length (mm)  Culmen Depth (mm)  \\\n",
       "0                 Yes                39.1               18.7   \n",
       "1                 Yes                39.5               17.4   \n",
       "2                 Yes                40.3               18.0   \n",
       "3                 Yes                 NaN                NaN   \n",
       "4                 Yes                36.7               19.3   \n",
       "..                ...                 ...                ...   \n",
       "339                No                 NaN                NaN   \n",
       "340               Yes                46.8               14.3   \n",
       "341               Yes                50.4               15.7   \n",
       "342               Yes                45.2               14.8   \n",
       "343               Yes                49.9               16.1   \n",
       "\n",
       "     Flipper Length (mm)  Body Mass (g)     Sex  Delta 15 N (o/oo)  \\\n",
       "0                  181.0         3750.0    MALE                NaN   \n",
       "1                  186.0         3800.0  FEMALE            8.94956   \n",
       "2                  195.0         3250.0  FEMALE            8.36821   \n",
       "3                    NaN            NaN     NaN                NaN   \n",
       "4                  193.0         3450.0  FEMALE            8.76651   \n",
       "..                   ...            ...     ...                ...   \n",
       "339                  NaN            NaN     NaN                NaN   \n",
       "340                215.0         4850.0  FEMALE            8.41151   \n",
       "341                222.0         5750.0    MALE            8.30166   \n",
       "342                212.0         5200.0  FEMALE            8.24246   \n",
       "343                213.0         5400.0    MALE            8.36390   \n",
       "\n",
       "     Delta 13 C (o/oo)  \n",
       "0                  NaN  \n",
       "1            -24.69454  \n",
       "2            -25.33302  \n",
       "3                  NaN  \n",
       "4            -25.32426  \n",
       "..                 ...  \n",
       "339                NaN  \n",
       "340          -26.13832  \n",
       "341          -26.04117  \n",
       "342          -26.11969  \n",
       "343          -26.15531  \n",
       "\n",
       "[344 rows x 12 columns]"
      ]
     },
     "execution_count": 285,
     "metadata": {},
     "output_type": "execute_result"
    }
   ],
   "source": [
    "penguin = penguins.drop(columns=['Region', 'Individual ID', 'Comments', 'Date Egg', 'Stage'])\n",
    "penguin"
   ]
  },
  {
   "cell_type": "code",
   "execution_count": 286,
   "id": "90bfe4ce-b27d-4aea-9448-014aba1a0ab1",
   "metadata": {},
   "outputs": [
    {
     "name": "stdout",
     "output_type": "stream",
     "text": [
      "<class 'pandas.core.frame.DataFrame'>\n",
      "RangeIndex: 344 entries, 0 to 343\n",
      "Data columns (total 12 columns):\n",
      " #   Column               Non-Null Count  Dtype  \n",
      "---  ------               --------------  -----  \n",
      " 0   studyName            344 non-null    object \n",
      " 1   Sample Number        344 non-null    int64  \n",
      " 2   Species              344 non-null    object \n",
      " 3   Island               344 non-null    object \n",
      " 4   Clutch Completion    344 non-null    object \n",
      " 5   Culmen Length (mm)   342 non-null    float64\n",
      " 6   Culmen Depth (mm)    342 non-null    float64\n",
      " 7   Flipper Length (mm)  342 non-null    float64\n",
      " 8   Body Mass (g)        342 non-null    float64\n",
      " 9   Sex                  334 non-null    object \n",
      " 10  Delta 15 N (o/oo)    330 non-null    float64\n",
      " 11  Delta 13 C (o/oo)    331 non-null    float64\n",
      "dtypes: float64(6), int64(1), object(5)\n",
      "memory usage: 32.4+ KB\n"
     ]
    }
   ],
   "source": [
    "penguin.info()"
   ]
  },
  {
   "cell_type": "code",
   "execution_count": 287,
   "id": "7e53bdf2-14f7-4721-b11c-dec374fa018e",
   "metadata": {},
   "outputs": [
    {
     "data": {
      "text/html": [
       "<div>\n",
       "<style scoped>\n",
       "    .dataframe tbody tr th:only-of-type {\n",
       "        vertical-align: middle;\n",
       "    }\n",
       "\n",
       "    .dataframe tbody tr th {\n",
       "        vertical-align: top;\n",
       "    }\n",
       "\n",
       "    .dataframe thead th {\n",
       "        text-align: right;\n",
       "    }\n",
       "</style>\n",
       "<table border=\"1\" class=\"dataframe\">\n",
       "  <thead>\n",
       "    <tr style=\"text-align: right;\">\n",
       "      <th></th>\n",
       "      <th>studyName</th>\n",
       "      <th>Sample Number</th>\n",
       "      <th>Species</th>\n",
       "      <th>Island</th>\n",
       "      <th>Clutch Completion</th>\n",
       "      <th>Culmen Length (mm)</th>\n",
       "      <th>Culmen Depth (mm)</th>\n",
       "      <th>Flipper Length (mm)</th>\n",
       "      <th>Body Mass (g)</th>\n",
       "      <th>Sex</th>\n",
       "      <th>Delta 15 N (o/oo)</th>\n",
       "      <th>Delta 13 C (o/oo)</th>\n",
       "      <th>studName</th>\n",
       "      <th>Islan</th>\n",
       "      <th>Clutch Completi</th>\n",
       "      <th>sex</th>\n",
       "    </tr>\n",
       "  </thead>\n",
       "  <tbody>\n",
       "    <tr>\n",
       "      <th>0</th>\n",
       "      <td>PAL0708</td>\n",
       "      <td>1</td>\n",
       "      <td>Adelie Penguin (Pygoscelis adeliae)</td>\n",
       "      <td>Torgersen</td>\n",
       "      <td>Yes</td>\n",
       "      <td>39.1</td>\n",
       "      <td>18.7</td>\n",
       "      <td>181.0</td>\n",
       "      <td>3750.0</td>\n",
       "      <td>MALE</td>\n",
       "      <td>NaN</td>\n",
       "      <td>NaN</td>\n",
       "      <td>0.0</td>\n",
       "      <td>2.0</td>\n",
       "      <td>1.0</td>\n",
       "      <td>2.0</td>\n",
       "    </tr>\n",
       "    <tr>\n",
       "      <th>1</th>\n",
       "      <td>PAL0708</td>\n",
       "      <td>2</td>\n",
       "      <td>Adelie Penguin (Pygoscelis adeliae)</td>\n",
       "      <td>Torgersen</td>\n",
       "      <td>Yes</td>\n",
       "      <td>39.5</td>\n",
       "      <td>17.4</td>\n",
       "      <td>186.0</td>\n",
       "      <td>3800.0</td>\n",
       "      <td>FEMALE</td>\n",
       "      <td>8.94956</td>\n",
       "      <td>-24.69454</td>\n",
       "      <td>0.0</td>\n",
       "      <td>2.0</td>\n",
       "      <td>1.0</td>\n",
       "      <td>1.0</td>\n",
       "    </tr>\n",
       "    <tr>\n",
       "      <th>2</th>\n",
       "      <td>PAL0708</td>\n",
       "      <td>3</td>\n",
       "      <td>Adelie Penguin (Pygoscelis adeliae)</td>\n",
       "      <td>Torgersen</td>\n",
       "      <td>Yes</td>\n",
       "      <td>40.3</td>\n",
       "      <td>18.0</td>\n",
       "      <td>195.0</td>\n",
       "      <td>3250.0</td>\n",
       "      <td>FEMALE</td>\n",
       "      <td>8.36821</td>\n",
       "      <td>-25.33302</td>\n",
       "      <td>0.0</td>\n",
       "      <td>2.0</td>\n",
       "      <td>1.0</td>\n",
       "      <td>1.0</td>\n",
       "    </tr>\n",
       "    <tr>\n",
       "      <th>3</th>\n",
       "      <td>PAL0708</td>\n",
       "      <td>4</td>\n",
       "      <td>Adelie Penguin (Pygoscelis adeliae)</td>\n",
       "      <td>Torgersen</td>\n",
       "      <td>Yes</td>\n",
       "      <td>NaN</td>\n",
       "      <td>NaN</td>\n",
       "      <td>NaN</td>\n",
       "      <td>NaN</td>\n",
       "      <td>NaN</td>\n",
       "      <td>NaN</td>\n",
       "      <td>NaN</td>\n",
       "      <td>0.0</td>\n",
       "      <td>2.0</td>\n",
       "      <td>1.0</td>\n",
       "      <td>NaN</td>\n",
       "    </tr>\n",
       "    <tr>\n",
       "      <th>4</th>\n",
       "      <td>PAL0708</td>\n",
       "      <td>5</td>\n",
       "      <td>Adelie Penguin (Pygoscelis adeliae)</td>\n",
       "      <td>Torgersen</td>\n",
       "      <td>Yes</td>\n",
       "      <td>36.7</td>\n",
       "      <td>19.3</td>\n",
       "      <td>193.0</td>\n",
       "      <td>3450.0</td>\n",
       "      <td>FEMALE</td>\n",
       "      <td>8.76651</td>\n",
       "      <td>-25.32426</td>\n",
       "      <td>0.0</td>\n",
       "      <td>2.0</td>\n",
       "      <td>1.0</td>\n",
       "      <td>1.0</td>\n",
       "    </tr>\n",
       "    <tr>\n",
       "      <th>...</th>\n",
       "      <td>...</td>\n",
       "      <td>...</td>\n",
       "      <td>...</td>\n",
       "      <td>...</td>\n",
       "      <td>...</td>\n",
       "      <td>...</td>\n",
       "      <td>...</td>\n",
       "      <td>...</td>\n",
       "      <td>...</td>\n",
       "      <td>...</td>\n",
       "      <td>...</td>\n",
       "      <td>...</td>\n",
       "      <td>...</td>\n",
       "      <td>...</td>\n",
       "      <td>...</td>\n",
       "      <td>...</td>\n",
       "    </tr>\n",
       "    <tr>\n",
       "      <th>339</th>\n",
       "      <td>PAL0910</td>\n",
       "      <td>120</td>\n",
       "      <td>Gentoo penguin (Pygoscelis papua)</td>\n",
       "      <td>Biscoe</td>\n",
       "      <td>No</td>\n",
       "      <td>NaN</td>\n",
       "      <td>NaN</td>\n",
       "      <td>NaN</td>\n",
       "      <td>NaN</td>\n",
       "      <td>NaN</td>\n",
       "      <td>NaN</td>\n",
       "      <td>NaN</td>\n",
       "      <td>2.0</td>\n",
       "      <td>0.0</td>\n",
       "      <td>0.0</td>\n",
       "      <td>NaN</td>\n",
       "    </tr>\n",
       "    <tr>\n",
       "      <th>340</th>\n",
       "      <td>PAL0910</td>\n",
       "      <td>121</td>\n",
       "      <td>Gentoo penguin (Pygoscelis papua)</td>\n",
       "      <td>Biscoe</td>\n",
       "      <td>Yes</td>\n",
       "      <td>46.8</td>\n",
       "      <td>14.3</td>\n",
       "      <td>215.0</td>\n",
       "      <td>4850.0</td>\n",
       "      <td>FEMALE</td>\n",
       "      <td>8.41151</td>\n",
       "      <td>-26.13832</td>\n",
       "      <td>2.0</td>\n",
       "      <td>0.0</td>\n",
       "      <td>1.0</td>\n",
       "      <td>1.0</td>\n",
       "    </tr>\n",
       "    <tr>\n",
       "      <th>341</th>\n",
       "      <td>PAL0910</td>\n",
       "      <td>122</td>\n",
       "      <td>Gentoo penguin (Pygoscelis papua)</td>\n",
       "      <td>Biscoe</td>\n",
       "      <td>Yes</td>\n",
       "      <td>50.4</td>\n",
       "      <td>15.7</td>\n",
       "      <td>222.0</td>\n",
       "      <td>5750.0</td>\n",
       "      <td>MALE</td>\n",
       "      <td>8.30166</td>\n",
       "      <td>-26.04117</td>\n",
       "      <td>2.0</td>\n",
       "      <td>0.0</td>\n",
       "      <td>1.0</td>\n",
       "      <td>2.0</td>\n",
       "    </tr>\n",
       "    <tr>\n",
       "      <th>342</th>\n",
       "      <td>PAL0910</td>\n",
       "      <td>123</td>\n",
       "      <td>Gentoo penguin (Pygoscelis papua)</td>\n",
       "      <td>Biscoe</td>\n",
       "      <td>Yes</td>\n",
       "      <td>45.2</td>\n",
       "      <td>14.8</td>\n",
       "      <td>212.0</td>\n",
       "      <td>5200.0</td>\n",
       "      <td>FEMALE</td>\n",
       "      <td>8.24246</td>\n",
       "      <td>-26.11969</td>\n",
       "      <td>2.0</td>\n",
       "      <td>0.0</td>\n",
       "      <td>1.0</td>\n",
       "      <td>1.0</td>\n",
       "    </tr>\n",
       "    <tr>\n",
       "      <th>343</th>\n",
       "      <td>PAL0910</td>\n",
       "      <td>124</td>\n",
       "      <td>Gentoo penguin (Pygoscelis papua)</td>\n",
       "      <td>Biscoe</td>\n",
       "      <td>Yes</td>\n",
       "      <td>49.9</td>\n",
       "      <td>16.1</td>\n",
       "      <td>213.0</td>\n",
       "      <td>5400.0</td>\n",
       "      <td>MALE</td>\n",
       "      <td>8.36390</td>\n",
       "      <td>-26.15531</td>\n",
       "      <td>2.0</td>\n",
       "      <td>0.0</td>\n",
       "      <td>1.0</td>\n",
       "      <td>2.0</td>\n",
       "    </tr>\n",
       "  </tbody>\n",
       "</table>\n",
       "<p>344 rows × 16 columns</p>\n",
       "</div>"
      ],
      "text/plain": [
       "    studyName  Sample Number                              Species     Island  \\\n",
       "0     PAL0708              1  Adelie Penguin (Pygoscelis adeliae)  Torgersen   \n",
       "1     PAL0708              2  Adelie Penguin (Pygoscelis adeliae)  Torgersen   \n",
       "2     PAL0708              3  Adelie Penguin (Pygoscelis adeliae)  Torgersen   \n",
       "3     PAL0708              4  Adelie Penguin (Pygoscelis adeliae)  Torgersen   \n",
       "4     PAL0708              5  Adelie Penguin (Pygoscelis adeliae)  Torgersen   \n",
       "..        ...            ...                                  ...        ...   \n",
       "339   PAL0910            120    Gentoo penguin (Pygoscelis papua)     Biscoe   \n",
       "340   PAL0910            121    Gentoo penguin (Pygoscelis papua)     Biscoe   \n",
       "341   PAL0910            122    Gentoo penguin (Pygoscelis papua)     Biscoe   \n",
       "342   PAL0910            123    Gentoo penguin (Pygoscelis papua)     Biscoe   \n",
       "343   PAL0910            124    Gentoo penguin (Pygoscelis papua)     Biscoe   \n",
       "\n",
       "    Clutch Completion  Culmen Length (mm)  Culmen Depth (mm)  \\\n",
       "0                 Yes                39.1               18.7   \n",
       "1                 Yes                39.5               17.4   \n",
       "2                 Yes                40.3               18.0   \n",
       "3                 Yes                 NaN                NaN   \n",
       "4                 Yes                36.7               19.3   \n",
       "..                ...                 ...                ...   \n",
       "339                No                 NaN                NaN   \n",
       "340               Yes                46.8               14.3   \n",
       "341               Yes                50.4               15.7   \n",
       "342               Yes                45.2               14.8   \n",
       "343               Yes                49.9               16.1   \n",
       "\n",
       "     Flipper Length (mm)  Body Mass (g)     Sex  Delta 15 N (o/oo)  \\\n",
       "0                  181.0         3750.0    MALE                NaN   \n",
       "1                  186.0         3800.0  FEMALE            8.94956   \n",
       "2                  195.0         3250.0  FEMALE            8.36821   \n",
       "3                    NaN            NaN     NaN                NaN   \n",
       "4                  193.0         3450.0  FEMALE            8.76651   \n",
       "..                   ...            ...     ...                ...   \n",
       "339                  NaN            NaN     NaN                NaN   \n",
       "340                215.0         4850.0  FEMALE            8.41151   \n",
       "341                222.0         5750.0    MALE            8.30166   \n",
       "342                212.0         5200.0  FEMALE            8.24246   \n",
       "343                213.0         5400.0    MALE            8.36390   \n",
       "\n",
       "     Delta 13 C (o/oo)  studName  Islan  Clutch Completi  sex  \n",
       "0                  NaN       0.0    2.0              1.0  2.0  \n",
       "1            -24.69454       0.0    2.0              1.0  1.0  \n",
       "2            -25.33302       0.0    2.0              1.0  1.0  \n",
       "3                  NaN       0.0    2.0              1.0  NaN  \n",
       "4            -25.32426       0.0    2.0              1.0  1.0  \n",
       "..                 ...       ...    ...              ...  ...  \n",
       "339                NaN       2.0    0.0              0.0  NaN  \n",
       "340          -26.13832       2.0    0.0              1.0  1.0  \n",
       "341          -26.04117       2.0    0.0              1.0  2.0  \n",
       "342          -26.11969       2.0    0.0              1.0  1.0  \n",
       "343          -26.15531       2.0    0.0              1.0  2.0  \n",
       "\n",
       "[344 rows x 16 columns]"
      ]
     },
     "execution_count": 287,
     "metadata": {},
     "output_type": "execute_result"
    }
   ],
   "source": [
    "enc = OrdinalEncoder()\n",
    "penguin[['studName', 'Islan', 'Clutch Completi', 'sex']] = enc.fit_transform(penguin[['studyName', 'Island', 'Clutch Completion', 'Sex']]) \n",
    "penguin"
   ]
  },
  {
   "cell_type": "code",
   "execution_count": 289,
   "id": "1915079d-5337-4739-a033-32264bb55062",
   "metadata": {},
   "outputs": [
    {
     "data": {
      "text/html": [
       "<div>\n",
       "<style scoped>\n",
       "    .dataframe tbody tr th:only-of-type {\n",
       "        vertical-align: middle;\n",
       "    }\n",
       "\n",
       "    .dataframe tbody tr th {\n",
       "        vertical-align: top;\n",
       "    }\n",
       "\n",
       "    .dataframe thead th {\n",
       "        text-align: right;\n",
       "    }\n",
       "</style>\n",
       "<table border=\"1\" class=\"dataframe\">\n",
       "  <thead>\n",
       "    <tr style=\"text-align: right;\">\n",
       "      <th></th>\n",
       "      <th>Sample Number</th>\n",
       "      <th>Species</th>\n",
       "      <th>Culmen Length (mm)</th>\n",
       "      <th>Culmen Depth (mm)</th>\n",
       "      <th>Flipper Length (mm)</th>\n",
       "      <th>Body Mass (g)</th>\n",
       "      <th>Delta 15 N (o/oo)</th>\n",
       "      <th>Delta 13 C (o/oo)</th>\n",
       "      <th>studName</th>\n",
       "      <th>Islan</th>\n",
       "      <th>Clutch Completi</th>\n",
       "      <th>sex</th>\n",
       "    </tr>\n",
       "  </thead>\n",
       "  <tbody>\n",
       "    <tr>\n",
       "      <th>0</th>\n",
       "      <td>1</td>\n",
       "      <td>Adelie Penguin (Pygoscelis adeliae)</td>\n",
       "      <td>39.1</td>\n",
       "      <td>18.7</td>\n",
       "      <td>181.0</td>\n",
       "      <td>3750.0</td>\n",
       "      <td>NaN</td>\n",
       "      <td>NaN</td>\n",
       "      <td>0.0</td>\n",
       "      <td>2.0</td>\n",
       "      <td>1.0</td>\n",
       "      <td>2.0</td>\n",
       "    </tr>\n",
       "    <tr>\n",
       "      <th>1</th>\n",
       "      <td>2</td>\n",
       "      <td>Adelie Penguin (Pygoscelis adeliae)</td>\n",
       "      <td>39.5</td>\n",
       "      <td>17.4</td>\n",
       "      <td>186.0</td>\n",
       "      <td>3800.0</td>\n",
       "      <td>8.94956</td>\n",
       "      <td>-24.69454</td>\n",
       "      <td>0.0</td>\n",
       "      <td>2.0</td>\n",
       "      <td>1.0</td>\n",
       "      <td>1.0</td>\n",
       "    </tr>\n",
       "    <tr>\n",
       "      <th>2</th>\n",
       "      <td>3</td>\n",
       "      <td>Adelie Penguin (Pygoscelis adeliae)</td>\n",
       "      <td>40.3</td>\n",
       "      <td>18.0</td>\n",
       "      <td>195.0</td>\n",
       "      <td>3250.0</td>\n",
       "      <td>8.36821</td>\n",
       "      <td>-25.33302</td>\n",
       "      <td>0.0</td>\n",
       "      <td>2.0</td>\n",
       "      <td>1.0</td>\n",
       "      <td>1.0</td>\n",
       "    </tr>\n",
       "    <tr>\n",
       "      <th>3</th>\n",
       "      <td>4</td>\n",
       "      <td>Adelie Penguin (Pygoscelis adeliae)</td>\n",
       "      <td>NaN</td>\n",
       "      <td>NaN</td>\n",
       "      <td>NaN</td>\n",
       "      <td>NaN</td>\n",
       "      <td>NaN</td>\n",
       "      <td>NaN</td>\n",
       "      <td>0.0</td>\n",
       "      <td>2.0</td>\n",
       "      <td>1.0</td>\n",
       "      <td>NaN</td>\n",
       "    </tr>\n",
       "    <tr>\n",
       "      <th>4</th>\n",
       "      <td>5</td>\n",
       "      <td>Adelie Penguin (Pygoscelis adeliae)</td>\n",
       "      <td>36.7</td>\n",
       "      <td>19.3</td>\n",
       "      <td>193.0</td>\n",
       "      <td>3450.0</td>\n",
       "      <td>8.76651</td>\n",
       "      <td>-25.32426</td>\n",
       "      <td>0.0</td>\n",
       "      <td>2.0</td>\n",
       "      <td>1.0</td>\n",
       "      <td>1.0</td>\n",
       "    </tr>\n",
       "    <tr>\n",
       "      <th>...</th>\n",
       "      <td>...</td>\n",
       "      <td>...</td>\n",
       "      <td>...</td>\n",
       "      <td>...</td>\n",
       "      <td>...</td>\n",
       "      <td>...</td>\n",
       "      <td>...</td>\n",
       "      <td>...</td>\n",
       "      <td>...</td>\n",
       "      <td>...</td>\n",
       "      <td>...</td>\n",
       "      <td>...</td>\n",
       "    </tr>\n",
       "    <tr>\n",
       "      <th>339</th>\n",
       "      <td>120</td>\n",
       "      <td>Gentoo penguin (Pygoscelis papua)</td>\n",
       "      <td>NaN</td>\n",
       "      <td>NaN</td>\n",
       "      <td>NaN</td>\n",
       "      <td>NaN</td>\n",
       "      <td>NaN</td>\n",
       "      <td>NaN</td>\n",
       "      <td>2.0</td>\n",
       "      <td>0.0</td>\n",
       "      <td>0.0</td>\n",
       "      <td>NaN</td>\n",
       "    </tr>\n",
       "    <tr>\n",
       "      <th>340</th>\n",
       "      <td>121</td>\n",
       "      <td>Gentoo penguin (Pygoscelis papua)</td>\n",
       "      <td>46.8</td>\n",
       "      <td>14.3</td>\n",
       "      <td>215.0</td>\n",
       "      <td>4850.0</td>\n",
       "      <td>8.41151</td>\n",
       "      <td>-26.13832</td>\n",
       "      <td>2.0</td>\n",
       "      <td>0.0</td>\n",
       "      <td>1.0</td>\n",
       "      <td>1.0</td>\n",
       "    </tr>\n",
       "    <tr>\n",
       "      <th>341</th>\n",
       "      <td>122</td>\n",
       "      <td>Gentoo penguin (Pygoscelis papua)</td>\n",
       "      <td>50.4</td>\n",
       "      <td>15.7</td>\n",
       "      <td>222.0</td>\n",
       "      <td>5750.0</td>\n",
       "      <td>8.30166</td>\n",
       "      <td>-26.04117</td>\n",
       "      <td>2.0</td>\n",
       "      <td>0.0</td>\n",
       "      <td>1.0</td>\n",
       "      <td>2.0</td>\n",
       "    </tr>\n",
       "    <tr>\n",
       "      <th>342</th>\n",
       "      <td>123</td>\n",
       "      <td>Gentoo penguin (Pygoscelis papua)</td>\n",
       "      <td>45.2</td>\n",
       "      <td>14.8</td>\n",
       "      <td>212.0</td>\n",
       "      <td>5200.0</td>\n",
       "      <td>8.24246</td>\n",
       "      <td>-26.11969</td>\n",
       "      <td>2.0</td>\n",
       "      <td>0.0</td>\n",
       "      <td>1.0</td>\n",
       "      <td>1.0</td>\n",
       "    </tr>\n",
       "    <tr>\n",
       "      <th>343</th>\n",
       "      <td>124</td>\n",
       "      <td>Gentoo penguin (Pygoscelis papua)</td>\n",
       "      <td>49.9</td>\n",
       "      <td>16.1</td>\n",
       "      <td>213.0</td>\n",
       "      <td>5400.0</td>\n",
       "      <td>8.36390</td>\n",
       "      <td>-26.15531</td>\n",
       "      <td>2.0</td>\n",
       "      <td>0.0</td>\n",
       "      <td>1.0</td>\n",
       "      <td>2.0</td>\n",
       "    </tr>\n",
       "  </tbody>\n",
       "</table>\n",
       "<p>344 rows × 12 columns</p>\n",
       "</div>"
      ],
      "text/plain": [
       "     Sample Number                              Species  Culmen Length (mm)  \\\n",
       "0                1  Adelie Penguin (Pygoscelis adeliae)                39.1   \n",
       "1                2  Adelie Penguin (Pygoscelis adeliae)                39.5   \n",
       "2                3  Adelie Penguin (Pygoscelis adeliae)                40.3   \n",
       "3                4  Adelie Penguin (Pygoscelis adeliae)                 NaN   \n",
       "4                5  Adelie Penguin (Pygoscelis adeliae)                36.7   \n",
       "..             ...                                  ...                 ...   \n",
       "339            120    Gentoo penguin (Pygoscelis papua)                 NaN   \n",
       "340            121    Gentoo penguin (Pygoscelis papua)                46.8   \n",
       "341            122    Gentoo penguin (Pygoscelis papua)                50.4   \n",
       "342            123    Gentoo penguin (Pygoscelis papua)                45.2   \n",
       "343            124    Gentoo penguin (Pygoscelis papua)                49.9   \n",
       "\n",
       "     Culmen Depth (mm)  Flipper Length (mm)  Body Mass (g)  Delta 15 N (o/oo)  \\\n",
       "0                 18.7                181.0         3750.0                NaN   \n",
       "1                 17.4                186.0         3800.0            8.94956   \n",
       "2                 18.0                195.0         3250.0            8.36821   \n",
       "3                  NaN                  NaN            NaN                NaN   \n",
       "4                 19.3                193.0         3450.0            8.76651   \n",
       "..                 ...                  ...            ...                ...   \n",
       "339                NaN                  NaN            NaN                NaN   \n",
       "340               14.3                215.0         4850.0            8.41151   \n",
       "341               15.7                222.0         5750.0            8.30166   \n",
       "342               14.8                212.0         5200.0            8.24246   \n",
       "343               16.1                213.0         5400.0            8.36390   \n",
       "\n",
       "     Delta 13 C (o/oo)  studName  Islan  Clutch Completi  sex  \n",
       "0                  NaN       0.0    2.0              1.0  2.0  \n",
       "1            -24.69454       0.0    2.0              1.0  1.0  \n",
       "2            -25.33302       0.0    2.0              1.0  1.0  \n",
       "3                  NaN       0.0    2.0              1.0  NaN  \n",
       "4            -25.32426       0.0    2.0              1.0  1.0  \n",
       "..                 ...       ...    ...              ...  ...  \n",
       "339                NaN       2.0    0.0              0.0  NaN  \n",
       "340          -26.13832       2.0    0.0              1.0  1.0  \n",
       "341          -26.04117       2.0    0.0              1.0  2.0  \n",
       "342          -26.11969       2.0    0.0              1.0  1.0  \n",
       "343          -26.15531       2.0    0.0              1.0  2.0  \n",
       "\n",
       "[344 rows x 12 columns]"
      ]
     },
     "execution_count": 289,
     "metadata": {},
     "output_type": "execute_result"
    }
   ],
   "source": [
    "pengui = penguin.drop(columns =['studyName', 'Island', 'Clutch Completion', 'Sex']) \n",
    "pengui"
   ]
  },
  {
   "cell_type": "code",
   "execution_count": 290,
   "id": "8649240a-8718-42d6-a0e0-393972cde5ba",
   "metadata": {},
   "outputs": [
    {
     "data": {
      "text/plain": [
       "Sample Number           0\n",
       "Species                 0\n",
       "Culmen Length (mm)      2\n",
       "Culmen Depth (mm)       2\n",
       "Flipper Length (mm)     2\n",
       "Body Mass (g)           2\n",
       "Delta 15 N (o/oo)      14\n",
       "Delta 13 C (o/oo)      13\n",
       "studName                0\n",
       "Islan                   0\n",
       "Clutch Completi         0\n",
       "sex                    10\n",
       "dtype: int64"
      ]
     },
     "execution_count": 290,
     "metadata": {},
     "output_type": "execute_result"
    }
   ],
   "source": [
    "pengui.isna().sum()"
   ]
  },
  {
   "cell_type": "code",
   "execution_count": 291,
   "id": "6aa07343-8abf-453f-bc09-353a2df41eda",
   "metadata": {},
   "outputs": [
    {
     "name": "stderr",
     "output_type": "stream",
     "text": [
      "C:\\Users\\Saheed\\AppData\\Local\\Temp\\ipykernel_11800\\326254676.py:1: FutureWarning: Dropping of nuisance columns in DataFrame reductions (with 'numeric_only=None') is deprecated; in a future version this will raise TypeError.  Select only valid columns before calling the reduction.\n",
      "  pengu = pengui.fillna(value=penguin.median())\n"
     ]
    },
    {
     "data": {
      "text/html": [
       "<div>\n",
       "<style scoped>\n",
       "    .dataframe tbody tr th:only-of-type {\n",
       "        vertical-align: middle;\n",
       "    }\n",
       "\n",
       "    .dataframe tbody tr th {\n",
       "        vertical-align: top;\n",
       "    }\n",
       "\n",
       "    .dataframe thead th {\n",
       "        text-align: right;\n",
       "    }\n",
       "</style>\n",
       "<table border=\"1\" class=\"dataframe\">\n",
       "  <thead>\n",
       "    <tr style=\"text-align: right;\">\n",
       "      <th></th>\n",
       "      <th>Sample Number</th>\n",
       "      <th>Species</th>\n",
       "      <th>Culmen Length (mm)</th>\n",
       "      <th>Culmen Depth (mm)</th>\n",
       "      <th>Flipper Length (mm)</th>\n",
       "      <th>Body Mass (g)</th>\n",
       "      <th>Delta 15 N (o/oo)</th>\n",
       "      <th>Delta 13 C (o/oo)</th>\n",
       "      <th>studName</th>\n",
       "      <th>Islan</th>\n",
       "      <th>Clutch Completi</th>\n",
       "      <th>sex</th>\n",
       "    </tr>\n",
       "  </thead>\n",
       "  <tbody>\n",
       "    <tr>\n",
       "      <th>0</th>\n",
       "      <td>1</td>\n",
       "      <td>Adelie Penguin (Pygoscelis adeliae)</td>\n",
       "      <td>39.10</td>\n",
       "      <td>18.7</td>\n",
       "      <td>181.0</td>\n",
       "      <td>3750.0</td>\n",
       "      <td>8.652405</td>\n",
       "      <td>-25.83352</td>\n",
       "      <td>0.0</td>\n",
       "      <td>2.0</td>\n",
       "      <td>1.0</td>\n",
       "      <td>2.0</td>\n",
       "    </tr>\n",
       "    <tr>\n",
       "      <th>1</th>\n",
       "      <td>2</td>\n",
       "      <td>Adelie Penguin (Pygoscelis adeliae)</td>\n",
       "      <td>39.50</td>\n",
       "      <td>17.4</td>\n",
       "      <td>186.0</td>\n",
       "      <td>3800.0</td>\n",
       "      <td>8.949560</td>\n",
       "      <td>-24.69454</td>\n",
       "      <td>0.0</td>\n",
       "      <td>2.0</td>\n",
       "      <td>1.0</td>\n",
       "      <td>1.0</td>\n",
       "    </tr>\n",
       "    <tr>\n",
       "      <th>2</th>\n",
       "      <td>3</td>\n",
       "      <td>Adelie Penguin (Pygoscelis adeliae)</td>\n",
       "      <td>40.30</td>\n",
       "      <td>18.0</td>\n",
       "      <td>195.0</td>\n",
       "      <td>3250.0</td>\n",
       "      <td>8.368210</td>\n",
       "      <td>-25.33302</td>\n",
       "      <td>0.0</td>\n",
       "      <td>2.0</td>\n",
       "      <td>1.0</td>\n",
       "      <td>1.0</td>\n",
       "    </tr>\n",
       "    <tr>\n",
       "      <th>3</th>\n",
       "      <td>4</td>\n",
       "      <td>Adelie Penguin (Pygoscelis adeliae)</td>\n",
       "      <td>44.45</td>\n",
       "      <td>17.3</td>\n",
       "      <td>197.0</td>\n",
       "      <td>4050.0</td>\n",
       "      <td>8.652405</td>\n",
       "      <td>-25.83352</td>\n",
       "      <td>0.0</td>\n",
       "      <td>2.0</td>\n",
       "      <td>1.0</td>\n",
       "      <td>2.0</td>\n",
       "    </tr>\n",
       "    <tr>\n",
       "      <th>4</th>\n",
       "      <td>5</td>\n",
       "      <td>Adelie Penguin (Pygoscelis adeliae)</td>\n",
       "      <td>36.70</td>\n",
       "      <td>19.3</td>\n",
       "      <td>193.0</td>\n",
       "      <td>3450.0</td>\n",
       "      <td>8.766510</td>\n",
       "      <td>-25.32426</td>\n",
       "      <td>0.0</td>\n",
       "      <td>2.0</td>\n",
       "      <td>1.0</td>\n",
       "      <td>1.0</td>\n",
       "    </tr>\n",
       "    <tr>\n",
       "      <th>...</th>\n",
       "      <td>...</td>\n",
       "      <td>...</td>\n",
       "      <td>...</td>\n",
       "      <td>...</td>\n",
       "      <td>...</td>\n",
       "      <td>...</td>\n",
       "      <td>...</td>\n",
       "      <td>...</td>\n",
       "      <td>...</td>\n",
       "      <td>...</td>\n",
       "      <td>...</td>\n",
       "      <td>...</td>\n",
       "    </tr>\n",
       "    <tr>\n",
       "      <th>339</th>\n",
       "      <td>120</td>\n",
       "      <td>Gentoo penguin (Pygoscelis papua)</td>\n",
       "      <td>44.45</td>\n",
       "      <td>17.3</td>\n",
       "      <td>197.0</td>\n",
       "      <td>4050.0</td>\n",
       "      <td>8.652405</td>\n",
       "      <td>-25.83352</td>\n",
       "      <td>2.0</td>\n",
       "      <td>0.0</td>\n",
       "      <td>0.0</td>\n",
       "      <td>2.0</td>\n",
       "    </tr>\n",
       "    <tr>\n",
       "      <th>340</th>\n",
       "      <td>121</td>\n",
       "      <td>Gentoo penguin (Pygoscelis papua)</td>\n",
       "      <td>46.80</td>\n",
       "      <td>14.3</td>\n",
       "      <td>215.0</td>\n",
       "      <td>4850.0</td>\n",
       "      <td>8.411510</td>\n",
       "      <td>-26.13832</td>\n",
       "      <td>2.0</td>\n",
       "      <td>0.0</td>\n",
       "      <td>1.0</td>\n",
       "      <td>1.0</td>\n",
       "    </tr>\n",
       "    <tr>\n",
       "      <th>341</th>\n",
       "      <td>122</td>\n",
       "      <td>Gentoo penguin (Pygoscelis papua)</td>\n",
       "      <td>50.40</td>\n",
       "      <td>15.7</td>\n",
       "      <td>222.0</td>\n",
       "      <td>5750.0</td>\n",
       "      <td>8.301660</td>\n",
       "      <td>-26.04117</td>\n",
       "      <td>2.0</td>\n",
       "      <td>0.0</td>\n",
       "      <td>1.0</td>\n",
       "      <td>2.0</td>\n",
       "    </tr>\n",
       "    <tr>\n",
       "      <th>342</th>\n",
       "      <td>123</td>\n",
       "      <td>Gentoo penguin (Pygoscelis papua)</td>\n",
       "      <td>45.20</td>\n",
       "      <td>14.8</td>\n",
       "      <td>212.0</td>\n",
       "      <td>5200.0</td>\n",
       "      <td>8.242460</td>\n",
       "      <td>-26.11969</td>\n",
       "      <td>2.0</td>\n",
       "      <td>0.0</td>\n",
       "      <td>1.0</td>\n",
       "      <td>1.0</td>\n",
       "    </tr>\n",
       "    <tr>\n",
       "      <th>343</th>\n",
       "      <td>124</td>\n",
       "      <td>Gentoo penguin (Pygoscelis papua)</td>\n",
       "      <td>49.90</td>\n",
       "      <td>16.1</td>\n",
       "      <td>213.0</td>\n",
       "      <td>5400.0</td>\n",
       "      <td>8.363900</td>\n",
       "      <td>-26.15531</td>\n",
       "      <td>2.0</td>\n",
       "      <td>0.0</td>\n",
       "      <td>1.0</td>\n",
       "      <td>2.0</td>\n",
       "    </tr>\n",
       "  </tbody>\n",
       "</table>\n",
       "<p>344 rows × 12 columns</p>\n",
       "</div>"
      ],
      "text/plain": [
       "     Sample Number                              Species  Culmen Length (mm)  \\\n",
       "0                1  Adelie Penguin (Pygoscelis adeliae)               39.10   \n",
       "1                2  Adelie Penguin (Pygoscelis adeliae)               39.50   \n",
       "2                3  Adelie Penguin (Pygoscelis adeliae)               40.30   \n",
       "3                4  Adelie Penguin (Pygoscelis adeliae)               44.45   \n",
       "4                5  Adelie Penguin (Pygoscelis adeliae)               36.70   \n",
       "..             ...                                  ...                 ...   \n",
       "339            120    Gentoo penguin (Pygoscelis papua)               44.45   \n",
       "340            121    Gentoo penguin (Pygoscelis papua)               46.80   \n",
       "341            122    Gentoo penguin (Pygoscelis papua)               50.40   \n",
       "342            123    Gentoo penguin (Pygoscelis papua)               45.20   \n",
       "343            124    Gentoo penguin (Pygoscelis papua)               49.90   \n",
       "\n",
       "     Culmen Depth (mm)  Flipper Length (mm)  Body Mass (g)  Delta 15 N (o/oo)  \\\n",
       "0                 18.7                181.0         3750.0           8.652405   \n",
       "1                 17.4                186.0         3800.0           8.949560   \n",
       "2                 18.0                195.0         3250.0           8.368210   \n",
       "3                 17.3                197.0         4050.0           8.652405   \n",
       "4                 19.3                193.0         3450.0           8.766510   \n",
       "..                 ...                  ...            ...                ...   \n",
       "339               17.3                197.0         4050.0           8.652405   \n",
       "340               14.3                215.0         4850.0           8.411510   \n",
       "341               15.7                222.0         5750.0           8.301660   \n",
       "342               14.8                212.0         5200.0           8.242460   \n",
       "343               16.1                213.0         5400.0           8.363900   \n",
       "\n",
       "     Delta 13 C (o/oo)  studName  Islan  Clutch Completi  sex  \n",
       "0            -25.83352       0.0    2.0              1.0  2.0  \n",
       "1            -24.69454       0.0    2.0              1.0  1.0  \n",
       "2            -25.33302       0.0    2.0              1.0  1.0  \n",
       "3            -25.83352       0.0    2.0              1.0  2.0  \n",
       "4            -25.32426       0.0    2.0              1.0  1.0  \n",
       "..                 ...       ...    ...              ...  ...  \n",
       "339          -25.83352       2.0    0.0              0.0  2.0  \n",
       "340          -26.13832       2.0    0.0              1.0  1.0  \n",
       "341          -26.04117       2.0    0.0              1.0  2.0  \n",
       "342          -26.11969       2.0    0.0              1.0  1.0  \n",
       "343          -26.15531       2.0    0.0              1.0  2.0  \n",
       "\n",
       "[344 rows x 12 columns]"
      ]
     },
     "execution_count": 291,
     "metadata": {},
     "output_type": "execute_result"
    }
   ],
   "source": [
    "pengu = pengui.fillna(value=penguin.median())\n",
    "pengu"
   ]
  },
  {
   "cell_type": "code",
   "execution_count": 292,
   "id": "34f266e6-0445-4365-b736-f332b1719a9d",
   "metadata": {},
   "outputs": [
    {
     "data": {
      "text/plain": [
       "2.0    178\n",
       "1.0    165\n",
       "0.0      1\n",
       "Name: sex, dtype: int64"
      ]
     },
     "execution_count": 292,
     "metadata": {},
     "output_type": "execute_result"
    }
   ],
   "source": [
    "pengu['sex'].value_counts()"
   ]
  },
  {
   "cell_type": "code",
   "execution_count": 293,
   "id": "3cea474b-5224-4671-b6a8-6ab46a2d8f9b",
   "metadata": {},
   "outputs": [
    {
     "name": "stdout",
     "output_type": "stream",
     "text": [
      "<class 'pandas.core.frame.DataFrame'>\n",
      "RangeIndex: 344 entries, 0 to 343\n",
      "Data columns (total 12 columns):\n",
      " #   Column               Non-Null Count  Dtype  \n",
      "---  ------               --------------  -----  \n",
      " 0   Sample Number        344 non-null    int64  \n",
      " 1   Species              344 non-null    object \n",
      " 2   Culmen Length (mm)   344 non-null    float64\n",
      " 3   Culmen Depth (mm)    344 non-null    float64\n",
      " 4   Flipper Length (mm)  344 non-null    float64\n",
      " 5   Body Mass (g)        344 non-null    float64\n",
      " 6   Delta 15 N (o/oo)    344 non-null    float64\n",
      " 7   Delta 13 C (o/oo)    344 non-null    float64\n",
      " 8   studName             344 non-null    float64\n",
      " 9   Islan                344 non-null    float64\n",
      " 10  Clutch Completi      344 non-null    float64\n",
      " 11  sex                  344 non-null    float64\n",
      "dtypes: float64(10), int64(1), object(1)\n",
      "memory usage: 32.4+ KB\n"
     ]
    }
   ],
   "source": [
    "pengu.info()"
   ]
  },
  {
   "cell_type": "code",
   "execution_count": 338,
   "id": "ab23f76e-9866-4e2a-ae9f-0235f78a8b88",
   "metadata": {},
   "outputs": [
    {
     "data": {
      "text/plain": [
       "<AxesSubplot:xlabel='Sample Number', ylabel='Species'>"
      ]
     },
     "execution_count": 338,
     "metadata": {},
     "output_type": "execute_result"
    },
    {
     "data": {
      "image/png": "[encoded data removed]",
      "text/plain": [
       "<Figure size 576x396 with 1 Axes>"
      ]
     },
     "metadata": {},
     "output_type": "display_data"
    }
   ],
   "source": [
    "sns.barplot(x=\"Sample Number\", y=\"Species\", data=pengu)"
   ]
  },
  {
   "cell_type": "markdown",
   "id": "7a997390-7a19-42b4-b0fd-5279ea8d2728",
   "metadata": {},
   "source": [
    "The Adelie Penguin (Pygoscelis adeliae) specie is the larger and has the highest number of samples gathered for this dataset."
   ]
  },
  {
   "cell_type": "code",
   "execution_count": 297,
   "id": "5453c829-e3e2-4dea-a867-109d4ca03524",
   "metadata": {},
   "outputs": [
    {
     "data": {
      "text/plain": [
       "<AxesSubplot:xlabel='Culmen Length (mm)', ylabel='Species'>"
      ]
     },
     "execution_count": 297,
     "metadata": {},
     "output_type": "execute_result"
    },
    {
     "data": {
      "image/png": "[encoded data removed]",
      "text/plain": [
       "<Figure size 576x396 with 1 Axes>"
      ]
     },
     "metadata": {},
     "output_type": "display_data"
    }
   ],
   "source": [
    "sns.barplot(x=\"Culmen Length (mm)\", y=\"Species\", data=pengu)"
   ]
  },
  {
   "cell_type": "markdown",
   "id": "94019d17-f0d2-49e0-aae7-a2cbe8c8ac4e",
   "metadata": {},
   "source": [
    "The Chinstrap penguin (Pygoscelis antarctica) is the specie with more of Culmen Length(dorsal ridge, i.e. backbone) measured in mm unit above.  "
   ]
  },
  {
   "cell_type": "code",
   "execution_count": 298,
   "id": "fbeaa60b-1f96-4380-80d6-f3ca26d500d8",
   "metadata": {},
   "outputs": [
    {
     "data": {
      "text/plain": [
       "<AxesSubplot:xlabel='Flipper Length (mm)', ylabel='Species'>"
      ]
     },
     "execution_count": 298,
     "metadata": {},
     "output_type": "execute_result"
    },
    {
     "data": {
      "image/png": "[encoded data removed]",
      "text/plain": [
       "<Figure size 576x396 with 1 Axes>"
      ]
     },
     "metadata": {},
     "output_type": "display_data"
    }
   ],
   "source": [
    "sns.barplot(x=\"Flipper Length (mm)\", y=\"Species\", data=pengu)"
   ]
  },
  {
   "cell_type": "markdown",
   "id": "8cf2da6c-5e4b-4339-bc2a-bffda4838157",
   "metadata": {},
   "source": [
    "The Gentoo penguin (Pygoscelis papua) is specie with more of Flipper Length(wide flat limb, adapted for swimming) among the penguin species."
   ]
  },
  {
   "cell_type": "code",
   "execution_count": 299,
   "id": "f998faba-0c96-4523-bdf6-d16113f0f372",
   "metadata": {},
   "outputs": [
    {
     "data": {
      "text/plain": [
       "<AxesSubplot:xlabel='Body Mass (g)', ylabel='Species'>"
      ]
     },
     "execution_count": 299,
     "metadata": {},
     "output_type": "execute_result"
    },
    {
     "data": {
      "image/png": "[encoded data removed]",
      "text/plain": [
       "<Figure size 576x396 with 1 Axes>"
      ]
     },
     "metadata": {},
     "output_type": "display_data"
    }
   ],
   "source": [
    "sns.barplot(x=\"Body Mass (g)\", y=\"Species\", data=pengu)"
   ]
  },
  {
   "cell_type": "markdown",
   "id": "7d1b1369-05fb-4c0e-92d6-ac6a07f902ad",
   "metadata": {},
   "source": [
    "The Gentoo penguin (Pygoscelis papua) is the specie with more body mass(physical structure)."
   ]
  },
  {
   "cell_type": "code",
   "execution_count": 300,
   "id": "b01e29f5-b035-49ca-887c-0ca0cdf2d10d",
   "metadata": {},
   "outputs": [
    {
     "data": {
      "text/plain": [
       "<AxesSubplot:xlabel='Delta 15 N (o/oo)', ylabel='Species'>"
      ]
     },
     "execution_count": 300,
     "metadata": {},
     "output_type": "execute_result"
    },
    {
     "data": {
      "image/png": "[encoded data removed]",
      "text/plain": [
       "<Figure size 576x396 with 1 Axes>"
      ]
     },
     "metadata": {},
     "output_type": "display_data"
    }
   ],
   "source": [
    "sns.barplot(x=\"Delta 15 N (o/oo)\", y=\"Species\", data=pengu)"
   ]
  },
  {
   "cell_type": "markdown",
   "id": "d2bc171d-e984-46da-986e-8a73011ae983",
   "metadata": {},
   "source": [
    "The Chinstrap penguin (Pygoscelis antarctica) specie are found or live in the region with above chemical element than the other species."
   ]
  },
  {
   "cell_type": "code",
   "execution_count": 301,
   "id": "ce9cf107-8089-4b32-ab56-f1782234ac7d",
   "metadata": {},
   "outputs": [
    {
     "data": {
      "text/plain": [
       "<AxesSubplot:xlabel='Delta 13 C (o/oo)', ylabel='Species'>"
      ]
     },
     "execution_count": 301,
     "metadata": {},
     "output_type": "execute_result"
    },
    {
     "data": {
      "image/png": "[encoded data removed]",
      "text/plain": [
       "<Figure size 576x396 with 1 Axes>"
      ]
     },
     "metadata": {},
     "output_type": "display_data"
    }
   ],
   "source": [
    "sns.barplot(x=\"Delta 13 C (o/oo)\", y=\"Species\", data=pengu)"
   ]
  },
  {
   "cell_type": "markdown",
   "id": "e9bf8203-1dfa-49b0-95c5-037405cb5b9e",
   "metadata": {},
   "source": [
    "The Gentoo penguin (Pygoscelis papua) is the specie that needs the lowest of the element above. "
   ]
  },
  {
   "cell_type": "code",
   "execution_count": 302,
   "id": "c98c1fc4-83da-47ad-8a42-40264281edd1",
   "metadata": {},
   "outputs": [
    {
     "data": {
      "text/plain": [
       "<AxesSubplot:xlabel='studName', ylabel='Species'>"
      ]
     },
     "execution_count": 302,
     "metadata": {},
     "output_type": "execute_result"
    },
    {
     "data": {
      "image/png": "[encoded data removed]",
      "text/plain": [
       "<Figure size 576x396 with 1 Axes>"
      ]
     },
     "metadata": {},
     "output_type": "display_data"
    }
   ],
   "source": [
    "sns.barplot(x=\"studName\", y=\"Species\", data=pengu)"
   ]
  },
  {
   "cell_type": "markdown",
   "id": "b28e8024-e542-4622-a0cf-dc84e55a49a6",
   "metadata": {},
   "source": [
    "The Gentoo penguin (Pygoscelis papua) is the highest study specie name among the penguin species."
   ]
  },
  {
   "cell_type": "code",
   "execution_count": 303,
   "id": "79162747-b105-4778-b769-8f180cc7e0d2",
   "metadata": {},
   "outputs": [
    {
     "data": {
      "text/plain": [
       "<AxesSubplot:xlabel='Islan', ylabel='Species'>"
      ]
     },
     "execution_count": 303,
     "metadata": {},
     "output_type": "execute_result"
    },
    {
     "data": {
      "image/png": "[encoded data removed]",
      "text/plain": [
       "<Figure size 576x396 with 1 Axes>"
      ]
     },
     "metadata": {},
     "output_type": "display_data"
    }
   ],
   "source": [
    "sns.barplot(x=\"Islan\", y=\"Species\", data=pengu)"
   ]
  },
  {
   "cell_type": "markdown",
   "id": "973e3d26-53ab-4aa4-ae27-c84a9fac55e5",
   "metadata": {},
   "source": [
    "Adelie Penguin (Pygoscelis adeliae) and Chinstrap penguin (Pygoscelis antarctica) are the penguin species that live or are found on the Island."
   ]
  },
  {
   "cell_type": "code",
   "execution_count": 309,
   "id": "efb5640d-5d63-4ae1-9faf-b2dc0acc0809",
   "metadata": {},
   "outputs": [
    {
     "data": {
      "text/plain": [
       "<AxesSubplot:xlabel='Clutch Completi', ylabel='Species'>"
      ]
     },
     "execution_count": 309,
     "metadata": {},
     "output_type": "execute_result"
    },
    {
     "data": {
      "image/png": "[encoded data removed]",
      "text/plain": [
       "<Figure size 576x396 with 1 Axes>"
      ]
     },
     "metadata": {},
     "output_type": "display_data"
    }
   ],
   "source": [
    "sns.barplot(x=\"Clutch Completi\", y=\"Species\", data=pengu, ci = True)"
   ]
  },
  {
   "cell_type": "markdown",
   "id": "bb719e77-b3ef-4a9b-8559-6ad28220742a",
   "metadata": {},
   "source": [
    "The Gentoo penguin (Pygoscelis papua) specie is of more of clutch(claw) completion."
   ]
  },
  {
   "cell_type": "code",
   "execution_count": 308,
   "id": "47071bf9-feaa-4e96-9385-cbffdd5ef4a8",
   "metadata": {},
   "outputs": [
    {
     "data": {
      "text/plain": [
       "<AxesSubplot:xlabel='sex', ylabel='Species'>"
      ]
     },
     "execution_count": 308,
     "metadata": {},
     "output_type": "execute_result"
    },
    {
     "data": {
      "image/png": "[encoded data removed]",
      "text/plain": [
       "<Figure size 576x396 with 1 Axes>"
      ]
     },
     "metadata": {},
     "output_type": "display_data"
    }
   ],
   "source": [
    "sns.barplot(x=\"sex\", y=\"Species\", data=pengu, ci = True)"
   ]
  },
  {
   "cell_type": "code",
   "execution_count": null,
   "id": "e2e72606-816f-4171-b858-0e32600b7082",
   "metadata": {},
   "outputs": [],
   "source": [
    "The Gentoo penguin (Pygoscelis papua) sex is more among the species. "
   ]
  },
  {
   "cell_type": "code",
   "execution_count": 310,
   "id": "da516dd9-dd7f-48ed-a973-00e8210e685f",
   "metadata": {},
   "outputs": [
    {
     "data": {
      "text/html": [
       "<div>\n",
       "<style scoped>\n",
       "    .dataframe tbody tr th:only-of-type {\n",
       "        vertical-align: middle;\n",
       "    }\n",
       "\n",
       "    .dataframe tbody tr th {\n",
       "        vertical-align: top;\n",
       "    }\n",
       "\n",
       "    .dataframe thead th {\n",
       "        text-align: right;\n",
       "    }\n",
       "</style>\n",
       "<table border=\"1\" class=\"dataframe\">\n",
       "  <thead>\n",
       "    <tr style=\"text-align: right;\">\n",
       "      <th></th>\n",
       "      <th>Sample Number</th>\n",
       "      <th>Culmen Length (mm)</th>\n",
       "      <th>Culmen Depth (mm)</th>\n",
       "      <th>Flipper Length (mm)</th>\n",
       "      <th>Body Mass (g)</th>\n",
       "      <th>Delta 15 N (o/oo)</th>\n",
       "      <th>Delta 13 C (o/oo)</th>\n",
       "      <th>studName</th>\n",
       "      <th>Islan</th>\n",
       "      <th>Clutch Completi</th>\n",
       "      <th>sex</th>\n",
       "    </tr>\n",
       "  </thead>\n",
       "  <tbody>\n",
       "    <tr>\n",
       "      <th>count</th>\n",
       "      <td>344.000000</td>\n",
       "      <td>344.000000</td>\n",
       "      <td>344.000000</td>\n",
       "      <td>344.000000</td>\n",
       "      <td>344.000000</td>\n",
       "      <td>344.000000</td>\n",
       "      <td>344.000000</td>\n",
       "      <td>344.000000</td>\n",
       "      <td>344.000000</td>\n",
       "      <td>344.000000</td>\n",
       "      <td>344.000000</td>\n",
       "    </tr>\n",
       "    <tr>\n",
       "      <th>mean</th>\n",
       "      <td>63.151163</td>\n",
       "      <td>43.925000</td>\n",
       "      <td>17.152035</td>\n",
       "      <td>200.892442</td>\n",
       "      <td>4200.872093</td>\n",
       "      <td>8.730086</td>\n",
       "      <td>-25.691855</td>\n",
       "      <td>1.029070</td>\n",
       "      <td>0.662791</td>\n",
       "      <td>0.895349</td>\n",
       "      <td>1.514535</td>\n",
       "    </tr>\n",
       "    <tr>\n",
       "      <th>std</th>\n",
       "      <td>40.430199</td>\n",
       "      <td>5.443792</td>\n",
       "      <td>1.969060</td>\n",
       "      <td>14.023826</td>\n",
       "      <td>799.696532</td>\n",
       "      <td>0.540630</td>\n",
       "      <td>0.779277</td>\n",
       "      <td>0.818356</td>\n",
       "      <td>0.726194</td>\n",
       "      <td>0.306549</td>\n",
       "      <td>0.506308</td>\n",
       "    </tr>\n",
       "    <tr>\n",
       "      <th>min</th>\n",
       "      <td>1.000000</td>\n",
       "      <td>32.100000</td>\n",
       "      <td>13.100000</td>\n",
       "      <td>172.000000</td>\n",
       "      <td>2700.000000</td>\n",
       "      <td>7.632200</td>\n",
       "      <td>-27.018540</td>\n",
       "      <td>0.000000</td>\n",
       "      <td>0.000000</td>\n",
       "      <td>0.000000</td>\n",
       "      <td>0.000000</td>\n",
       "    </tr>\n",
       "    <tr>\n",
       "      <th>25%</th>\n",
       "      <td>29.000000</td>\n",
       "      <td>39.275000</td>\n",
       "      <td>15.600000</td>\n",
       "      <td>190.000000</td>\n",
       "      <td>3550.000000</td>\n",
       "      <td>8.307415</td>\n",
       "      <td>-26.285460</td>\n",
       "      <td>0.000000</td>\n",
       "      <td>0.000000</td>\n",
       "      <td>1.000000</td>\n",
       "      <td>1.000000</td>\n",
       "    </tr>\n",
       "    <tr>\n",
       "      <th>50%</th>\n",
       "      <td>58.000000</td>\n",
       "      <td>44.450000</td>\n",
       "      <td>17.300000</td>\n",
       "      <td>197.000000</td>\n",
       "      <td>4050.000000</td>\n",
       "      <td>8.652405</td>\n",
       "      <td>-25.833520</td>\n",
       "      <td>1.000000</td>\n",
       "      <td>1.000000</td>\n",
       "      <td>1.000000</td>\n",
       "      <td>2.000000</td>\n",
       "    </tr>\n",
       "    <tr>\n",
       "      <th>75%</th>\n",
       "      <td>95.250000</td>\n",
       "      <td>48.500000</td>\n",
       "      <td>18.700000</td>\n",
       "      <td>213.000000</td>\n",
       "      <td>4750.000000</td>\n",
       "      <td>9.136170</td>\n",
       "      <td>-25.089467</td>\n",
       "      <td>2.000000</td>\n",
       "      <td>1.000000</td>\n",
       "      <td>1.000000</td>\n",
       "      <td>2.000000</td>\n",
       "    </tr>\n",
       "    <tr>\n",
       "      <th>max</th>\n",
       "      <td>152.000000</td>\n",
       "      <td>59.600000</td>\n",
       "      <td>21.500000</td>\n",
       "      <td>231.000000</td>\n",
       "      <td>6300.000000</td>\n",
       "      <td>10.025440</td>\n",
       "      <td>-23.787670</td>\n",
       "      <td>2.000000</td>\n",
       "      <td>2.000000</td>\n",
       "      <td>1.000000</td>\n",
       "      <td>2.000000</td>\n",
       "    </tr>\n",
       "  </tbody>\n",
       "</table>\n",
       "</div>"
      ],
      "text/plain": [
       "       Sample Number  Culmen Length (mm)  Culmen Depth (mm)  \\\n",
       "count     344.000000          344.000000         344.000000   \n",
       "mean       63.151163           43.925000          17.152035   \n",
       "std        40.430199            5.443792           1.969060   \n",
       "min         1.000000           32.100000          13.100000   \n",
       "25%        29.000000           39.275000          15.600000   \n",
       "50%        58.000000           44.450000          17.300000   \n",
       "75%        95.250000           48.500000          18.700000   \n",
       "max       152.000000           59.600000          21.500000   \n",
       "\n",
       "       Flipper Length (mm)  Body Mass (g)  Delta 15 N (o/oo)  \\\n",
       "count           344.000000     344.000000         344.000000   \n",
       "mean            200.892442    4200.872093           8.730086   \n",
       "std              14.023826     799.696532           0.540630   \n",
       "min             172.000000    2700.000000           7.632200   \n",
       "25%             190.000000    3550.000000           8.307415   \n",
       "50%             197.000000    4050.000000           8.652405   \n",
       "75%             213.000000    4750.000000           9.136170   \n",
       "max             231.000000    6300.000000          10.025440   \n",
       "\n",
       "       Delta 13 C (o/oo)    studName       Islan  Clutch Completi         sex  \n",
       "count         344.000000  344.000000  344.000000       344.000000  344.000000  \n",
       "mean          -25.691855    1.029070    0.662791         0.895349    1.514535  \n",
       "std             0.779277    0.818356    0.726194         0.306549    0.506308  \n",
       "min           -27.018540    0.000000    0.000000         0.000000    0.000000  \n",
       "25%           -26.285460    0.000000    0.000000         1.000000    1.000000  \n",
       "50%           -25.833520    1.000000    1.000000         1.000000    2.000000  \n",
       "75%           -25.089467    2.000000    1.000000         1.000000    2.000000  \n",
       "max           -23.787670    2.000000    2.000000         1.000000    2.000000  "
      ]
     },
     "execution_count": 310,
     "metadata": {},
     "output_type": "execute_result"
    }
   ],
   "source": [
    "pengu.describe()"
   ]
  },
  {
   "cell_type": "code",
   "execution_count": 311,
   "id": "47f7f998-42e2-4434-9c80-6f0ee81bdea0",
   "metadata": {},
   "outputs": [
    {
     "data": {
      "text/plain": [
       "<AxesSubplot:>"
      ]
     },
     "execution_count": 311,
     "metadata": {},
     "output_type": "execute_result"
    },
    {
     "data": {
      "image/png": "[encoded data removed]",
      "text/plain": [
       "<Figure size 1152x720 with 1 Axes>"
      ]
     },
     "metadata": {},
     "output_type": "display_data"
    }
   ],
   "source": [
    "plt.figure(figsize=(16, 10))\n",
    "pengu.boxplot()"
   ]
  },
  {
   "cell_type": "code",
   "execution_count": 312,
   "id": "c07116e0-05a6-4416-aee9-a7b9d3333f84",
   "metadata": {},
   "outputs": [
    {
     "data": {
      "text/plain": [
       "<AxesSubplot:>"
      ]
     },
     "execution_count": 312,
     "metadata": {},
     "output_type": "execute_result"
    },
    {
     "data": {
      "image/png": "[encoded data removed]",
      "text/plain": [
       "<Figure size 1152x720 with 1 Axes>"
      ]
     },
     "metadata": {},
     "output_type": "display_data"
    }
   ],
   "source": [
    "plt.figure(figsize=(16, 10))\n",
    "pengu.boxplot(['sex'])"
   ]
  },
  {
   "cell_type": "code",
   "execution_count": 314,
   "id": "ccd43864-25ce-4e01-a65f-df060f42d286",
   "metadata": {},
   "outputs": [],
   "source": [
    "y = pengu['Species']\n",
    "X = pengu.drop(columns=['Species'])"
   ]
  },
  {
   "cell_type": "code",
   "execution_count": 315,
   "id": "c05429b0-b635-485e-bb53-1d7692cccef9",
   "metadata": {},
   "outputs": [
    {
     "data": {
      "text/plain": [
       "<AxesSubplot:>"
      ]
     },
     "execution_count": 315,
     "metadata": {},
     "output_type": "execute_result"
    },
    {
     "data": {
      "image/png": "[encoded data removed]",
      "text/plain": [
       "<Figure size 1440x720 with 2 Axes>"
      ]
     },
     "metadata": {},
     "output_type": "display_data"
    }
   ],
   "source": [
    "plt.figure(figsize=(20, 10))\n",
    "sns.heatmap(X.corr(), annot = True)"
   ]
  },
  {
   "cell_type": "code",
   "execution_count": 316,
   "id": "ef93e417-7bd4-4175-9d85-67bf0e366ac9",
   "metadata": {},
   "outputs": [],
   "source": [
    "def calcu_mult(pengu):\n",
    "    vif = pd.DataFrame()\n",
    "    vif[\"variables\"] = X.columns\n",
    "    vif[\"VIF\"] = [variance_inflation_factor(X.values, i) for i in range(X.shape[1])]\n",
    "\n",
    "    return vif"
   ]
  },
  {
   "cell_type": "code",
   "execution_count": 317,
   "id": "f9f425fd-a6a1-4300-97bb-82b640b2b2fc",
   "metadata": {},
   "outputs": [
    {
     "data": {
      "text/html": [
       "<div>\n",
       "<style scoped>\n",
       "    .dataframe tbody tr th:only-of-type {\n",
       "        vertical-align: middle;\n",
       "    }\n",
       "\n",
       "    .dataframe tbody tr th {\n",
       "        vertical-align: top;\n",
       "    }\n",
       "\n",
       "    .dataframe thead th {\n",
       "        text-align: right;\n",
       "    }\n",
       "</style>\n",
       "<table border=\"1\" class=\"dataframe\">\n",
       "  <thead>\n",
       "    <tr style=\"text-align: right;\">\n",
       "      <th></th>\n",
       "      <th>variables</th>\n",
       "      <th>VIF</th>\n",
       "    </tr>\n",
       "  </thead>\n",
       "  <tbody>\n",
       "    <tr>\n",
       "      <th>0</th>\n",
       "      <td>Sample Number</td>\n",
       "      <td>20.987049</td>\n",
       "    </tr>\n",
       "    <tr>\n",
       "      <th>1</th>\n",
       "      <td>Culmen Length (mm)</td>\n",
       "      <td>224.250769</td>\n",
       "    </tr>\n",
       "    <tr>\n",
       "      <th>2</th>\n",
       "      <td>Culmen Depth (mm)</td>\n",
       "      <td>213.367340</td>\n",
       "    </tr>\n",
       "    <tr>\n",
       "      <th>3</th>\n",
       "      <td>Flipper Length (mm)</td>\n",
       "      <td>1298.625917</td>\n",
       "    </tr>\n",
       "    <tr>\n",
       "      <th>4</th>\n",
       "      <td>Body Mass (g)</td>\n",
       "      <td>183.947457</td>\n",
       "    </tr>\n",
       "    <tr>\n",
       "      <th>5</th>\n",
       "      <td>Delta 15 N (o/oo)</td>\n",
       "      <td>452.263736</td>\n",
       "    </tr>\n",
       "    <tr>\n",
       "      <th>6</th>\n",
       "      <td>Delta 13 C (o/oo)</td>\n",
       "      <td>909.340723</td>\n",
       "    </tr>\n",
       "    <tr>\n",
       "      <th>7</th>\n",
       "      <td>studName</td>\n",
       "      <td>14.046520</td>\n",
       "    </tr>\n",
       "    <tr>\n",
       "      <th>8</th>\n",
       "      <td>Islan</td>\n",
       "      <td>3.314138</td>\n",
       "    </tr>\n",
       "    <tr>\n",
       "      <th>9</th>\n",
       "      <td>Clutch Completi</td>\n",
       "      <td>10.089142</td>\n",
       "    </tr>\n",
       "    <tr>\n",
       "      <th>10</th>\n",
       "      <td>sex</td>\n",
       "      <td>20.723223</td>\n",
       "    </tr>\n",
       "  </tbody>\n",
       "</table>\n",
       "</div>"
      ],
      "text/plain": [
       "              variables          VIF\n",
       "0         Sample Number    20.987049\n",
       "1    Culmen Length (mm)   224.250769\n",
       "2     Culmen Depth (mm)   213.367340\n",
       "3   Flipper Length (mm)  1298.625917\n",
       "4         Body Mass (g)   183.947457\n",
       "5     Delta 15 N (o/oo)   452.263736\n",
       "6     Delta 13 C (o/oo)   909.340723\n",
       "7              studName    14.046520\n",
       "8                 Islan     3.314138\n",
       "9       Clutch Completi    10.089142\n",
       "10                  sex    20.723223"
      ]
     },
     "execution_count": 317,
     "metadata": {},
     "output_type": "execute_result"
    }
   ],
   "source": [
    "calcu_mult(X)"
   ]
  },
  {
   "cell_type": "code",
   "execution_count": 318,
   "id": "57051244-000a-4933-95ec-94374e93e5e4",
   "metadata": {},
   "outputs": [],
   "source": [
    "y = pengu['Species']\n",
    "x = pengu.drop(columns=['Species'], axis=1)"
   ]
  },
  {
   "cell_type": "code",
   "execution_count": 319,
   "id": "76bff5ec-06da-48f7-a342-fba5f9ee7acc",
   "metadata": {},
   "outputs": [
    {
     "data": {
      "text/plain": [
       "Adelie Penguin (Pygoscelis adeliae)          152\n",
       "Gentoo penguin (Pygoscelis papua)            124\n",
       "Chinstrap penguin (Pygoscelis antarctica)     68\n",
       "Name: Species, dtype: int64"
      ]
     },
     "execution_count": 319,
     "metadata": {},
     "output_type": "execute_result"
    }
   ],
   "source": [
    "y.value_counts()"
   ]
  },
  {
   "cell_type": "code",
   "execution_count": 320,
   "id": "f815b25a-8ec9-45fb-ab4d-de07a7f5512b",
   "metadata": {},
   "outputs": [],
   "source": [
    "sample = SMOTE(random_state=45)\n",
    "x,y = sample.fit_resample(x, y)"
   ]
  },
  {
   "cell_type": "code",
   "execution_count": 321,
   "id": "f3011002-0510-460b-95b6-4dc2eebce953",
   "metadata": {},
   "outputs": [
    {
     "data": {
      "text/plain": [
       "Adelie Penguin (Pygoscelis adeliae)          152\n",
       "Chinstrap penguin (Pygoscelis antarctica)    152\n",
       "Gentoo penguin (Pygoscelis papua)            152\n",
       "Name: Species, dtype: int64"
      ]
     },
     "execution_count": 321,
     "metadata": {},
     "output_type": "execute_result"
    }
   ],
   "source": [
    "y.value_counts()"
   ]
  },
  {
   "cell_type": "code",
   "execution_count": 322,
   "id": "b5edfe52-9146-421a-9960-04e7e750ddc3",
   "metadata": {},
   "outputs": [],
   "source": [
    "X_train, X_test, y_train, y_test = train_test_split(x, y, test_size=.20, random_state=45)"
   ]
  },
  {
   "cell_type": "code",
   "execution_count": 323,
   "id": "8403ad79-71fe-4252-b8df-f66d45954ddf",
   "metadata": {},
   "outputs": [],
   "source": [
    "Scaler = StandardScaler()\n",
    "X_train_norm = pd.DataFrame(Scaler.fit_transform(X_train))\n",
    "\n",
    "X_train_scale, X_test_scale, y_train_scale, y_test_scale = train_test_split(X_train_norm, y_train, test_size=.20, random_state=45)"
   ]
  },
  {
   "cell_type": "code",
   "execution_count": 324,
   "id": "1b8df6d0-651c-4ba7-8881-7bb92d768542",
   "metadata": {},
   "outputs": [],
   "source": [
    "model = PCA(n_components = 11)\n",
    "model_ = model.fit(X_train_scale, y_train_scale)"
   ]
  },
  {
   "cell_type": "code",
   "execution_count": 325,
   "id": "d5aac9d8-d143-4791-9a47-09fbd93857ce",
   "metadata": {},
   "outputs": [
    {
     "name": "stdout",
     "output_type": "stream",
     "text": [
      "[0.36207147 0.20464898 0.17052506 0.08116002 0.07498991 0.03930605\n",
      " 0.02114475 0.01714183 0.01339599 0.00852377 0.00709218]\n"
     ]
    }
   ],
   "source": [
    "pca = PCA(n_components=11)\n",
    "model = pca.fit(X_train_scale)\n",
    "PCA(n_components = 11)\n",
    "print(model.explained_variance_ratio_)"
   ]
  },
  {
   "cell_type": "code",
   "execution_count": 326,
   "id": "33baea82-c201-4f7d-9199-f95aacffdfdf",
   "metadata": {},
   "outputs": [
    {
     "data": {
      "image/png": "[encoded data removed]",
      "text/plain": [
       "<Figure size 576x396 with 1 Axes>"
      ]
     },
     "metadata": {},
     "output_type": "display_data"
    }
   ],
   "source": [
    "features = x.columns\n",
    "importances = model_.explained_variance_\n",
    "indices = np.argsort(importances)[-12:]\n",
    "plt.title('Feature Importances')\n",
    "plt.barh(range(len(indices)), importances[indices], color='g', align='center')\n",
    "plt.yticks(range(len(indices)), [features[i] for i in indices])\n",
    "plt.xlabel('Relatives importance')\n",
    "plt.show()"
   ]
  },
  {
   "cell_type": "code",
   "execution_count": 327,
   "id": "68c02ecc-03ca-450d-ac82-e9adadb971be",
   "metadata": {},
   "outputs": [
    {
     "data": {
      "text/plain": [
       "Text(0.5, 1.0, 'elbow_method')"
      ]
     },
     "execution_count": 327,
     "metadata": {},
     "output_type": "execute_result"
    },
    {
     "data": {
      "image/png": "[encoded data removed]",
      "text/plain": [
       "<Figure size 720x504 with 1 Axes>"
      ]
     },
     "metadata": {},
     "output_type": "display_data"
    }
   ],
   "source": [
    "lst = []\n",
    "for ks in range(1, 10):\n",
    "    km = KMeans(n_clusters = ks)\n",
    "    kmeans = km.fit(X_train_scale)\n",
    "    lst.append(kmeans.inertia_)\n",
    "\n",
    "fig = plt.figure(figsize = (10, 7))\n",
    "plt.plot(range(1, 10), lst)\n",
    "plt.grid(True)\n",
    "plt.title(\"elbow_method\")"
   ]
  },
  {
   "cell_type": "code",
   "execution_count": 328,
   "id": "457bd1d8-213c-4362-a1f9-cb8062d7becf",
   "metadata": {},
   "outputs": [
    {
     "data": {
      "image/png": "[encoded data removed]",
      "text/plain": [
       "<Figure size 1080x576 with 4 Axes>"
      ]
     },
     "metadata": {},
     "output_type": "display_data"
    }
   ],
   "source": [
    "from yellowbrick.cluster import SilhouetteVisualizer\n",
    "\n",
    "fig, ax = plt.subplots(2, 2, figsize=(15,8))\n",
    "for i in [2, 3, 4, 5]:\n",
    "    km = KMeans(n_clusters=i, init='k-means++', n_init=10, max_iter=100, random_state=42)\n",
    "    q, mod = divmod(i, 2)\n",
    "\n",
    "    visualizer = SilhouetteVisualizer(km, colors='yellowbrick', ax=ax[q-1][mod])\n",
    "    visualizer.fit(X_train_scale)"
   ]
  },
  {
   "cell_type": "code",
   "execution_count": 329,
   "id": "3a588554-eda7-4e22-af30-31238ba12537",
   "metadata": {},
   "outputs": [
    {
     "name": "stdout",
     "output_type": "stream",
     "text": [
      "Accuracy of model at K = 5 is 0.33695652173913043\n"
     ]
    },
    {
     "name": "stderr",
     "output_type": "stream",
     "text": [
      "c:\\users\\saheed\\appdata\\local\\programs\\python\\python39\\lib\\site-packages\\sklearn\\base.py:443: UserWarning: X has feature names, but KNeighborsClassifier was fitted without feature names\n",
      "  warnings.warn(\n"
     ]
    }
   ],
   "source": [
    "k = 5\n",
    "neigh = KNeighborsClassifier(n_neighbors = k)\n",
    "neigh_ = neigh.fit(X_train_scale, y_train_scale)\n",
    "pred_y = neigh_.predict(X_test)\n",
    "print(\"Accuracy of model at K = 5 is\", metrics.accuracy_score(y_test, pred_y))\n",
    "# # model_"
   ]
  },
  {
   "cell_type": "code",
   "execution_count": 330,
   "id": "12ff33d6-e10f-4583-aa98-9e9fecb0116b",
   "metadata": {},
   "outputs": [
    {
     "data": {
      "text/plain": [
       "KNeighborsClassifier()"
      ]
     },
     "execution_count": 330,
     "metadata": {},
     "output_type": "execute_result"
    }
   ],
   "source": [
    "k = 5\n",
    "neigh = KNeighborsClassifier(n_neighbors = k)\n",
    "neigh_ = neigh.fit(X_train_scale, y_train_scale)\n",
    "neigh_"
   ]
  },
  {
   "cell_type": "code",
   "execution_count": 331,
   "id": "3319756c-e673-4118-a1b3-8280df685f73",
   "metadata": {},
   "outputs": [
    {
     "data": {
      "text/plain": [
       "0.993127147766323"
      ]
     },
     "execution_count": 331,
     "metadata": {},
     "output_type": "execute_result"
    }
   ],
   "source": [
    "coef_deter = neigh_.score(X_train_scale, y_train_scale)\n",
    "coef_deter"
   ]
  },
  {
   "cell_type": "code",
   "execution_count": 335,
   "id": "f237df86-787d-44bb-91a5-831b8bea1947",
   "metadata": {},
   "outputs": [],
   "source": [
    "y_predict = neigh_.predict(X_test_scale)"
   ]
  },
  {
   "cell_type": "code",
   "execution_count": 336,
   "id": "fcd168f3-b4ad-4555-ada2-962139f3dd09",
   "metadata": {},
   "outputs": [
    {
     "data": {
      "text/plain": [
       "array([[26,  1,  0],\n",
       "       [ 0, 26,  0],\n",
       "       [ 1,  0, 19]], dtype=int64)"
      ]
     },
     "execution_count": 336,
     "metadata": {},
     "output_type": "execute_result"
    }
   ],
   "source": [
    "cf_matrix = confusion_matrix(y_test_scale, y_predict)\n",
    "cf_matrix"
   ]
  },
  {
   "cell_type": "code",
   "execution_count": 337,
   "id": "7fa1b27d-ccd9-46d9-98cc-9b2281339b77",
   "metadata": {},
   "outputs": [
    {
     "name": "stdout",
     "output_type": "stream",
     "text": [
      "[[26  1  0]\n",
      " [ 0 26  0]\n",
      " [ 1  0 19]]\n",
      "                                           precision    recall  f1-score   support\n",
      "\n",
      "      Adelie Penguin (Pygoscelis adeliae)       0.96      0.96      0.96        27\n",
      "Chinstrap penguin (Pygoscelis antarctica)       0.96      1.00      0.98        26\n",
      "        Gentoo penguin (Pygoscelis papua)       1.00      0.95      0.97        20\n",
      "\n",
      "                                 accuracy                           0.97        73\n",
      "                                macro avg       0.98      0.97      0.97        73\n",
      "                             weighted avg       0.97      0.97      0.97        73\n",
      "\n"
     ]
    }
   ],
   "source": [
    "print(confusion_matrix(y_test_scale, y_predict))\n",
    "print(classification_report(y_test_scale, y_predict))"
   ]
  },
  {
   "cell_type": "raw",
   "id": "bad1b32c-f1a8-4205-91a1-8654a3b92c15",
   "metadata": {},
   "source": [
    "The model has a good performance of almost/ closed to 100%. Its performance ability(accuracy) in classifying Adelie Penguin (Pygoscelis adeliae) and \n",
    "Chinstrap penguin (Pygoscelis antarctica) penguin species is 96% exact accuracy, while that of Gentoo penguin (Pygoscelis papua) specie is 100%. It could classified accurately with more data."
   ]
  }
 ],
 "metadata": {
  "kernelspec": {
   "display_name": "Python 3 (ipykernel)",
   "language": "python",
   "name": "python3"
  },
  "language_info": {
   "codemirror_mode": {
    "name": "ipython",
    "version": 3
   },
   "file_extension": ".py",
   "mimetype": "text/x-python",
   "name": "python",
   "nbconvert_exporter": "python",
   "pygments_lexer": "ipython3",
   "version": "3.9.6"
  }
 },
 "nbformat": 4,
 "nbformat_minor": 5
}
